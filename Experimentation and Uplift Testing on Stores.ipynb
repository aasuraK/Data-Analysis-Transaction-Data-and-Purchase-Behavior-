{
 "cells": [
  {
   "cell_type": "code",
   "execution_count": 1,
   "metadata": {},
   "outputs": [
    {
     "name": "stdout",
     "output_type": "stream",
     "text": [
      "Assalam-o-Alaikum!\n"
     ]
    }
   ],
   "source": [
    "greetings = \"Assalam-o-Alaikum!\"\n",
    "print(greetings)"
   ]
  },
  {
   "cell_type": "markdown",
   "metadata": {},
   "source": [
    "**We will be examining the performance in trial vs control stores to provide a recommendation for each location based on our insight.**\n",
    "\n",
    "- Select control stores – explore the data and define metrics for control store selection – \"What would make them a control store?\" Visualize the drivers to see suitability.\n",
    "\n",
    "- Assessment of the trial – get insights of each of the stores. Compare each trial store with ontrol store to get its overall performance. We want to know if the trial stores were successful or not.\n",
    "\n",
    "- Collate findings – summarise findings for each store and provide recommendations to share with client outlining the impact on sales during trial period."
   ]
  },
  {
   "cell_type": "markdown",
   "metadata": {},
   "source": [
    "### Import Libraries"
   ]
  },
  {
   "cell_type": "code",
   "execution_count": 2,
   "metadata": {},
   "outputs": [],
   "source": [
    "import pandas as pd\n",
    "import numpy as np\n",
    "import matplotlib.pyplot as plt"
   ]
  },
  {
   "cell_type": "markdown",
   "metadata": {},
   "source": [
    "### Import and Explore DataSet"
   ]
  },
  {
   "cell_type": "code",
   "execution_count": 3,
   "metadata": {
    "scrolled": false
   },
   "outputs": [
    {
     "data": {
      "text/html": [
       "<div>\n",
       "<style scoped>\n",
       "    .dataframe tbody tr th:only-of-type {\n",
       "        vertical-align: middle;\n",
       "    }\n",
       "\n",
       "    .dataframe tbody tr th {\n",
       "        vertical-align: top;\n",
       "    }\n",
       "\n",
       "    .dataframe thead th {\n",
       "        text-align: right;\n",
       "    }\n",
       "</style>\n",
       "<table border=\"1\" class=\"dataframe\">\n",
       "  <thead>\n",
       "    <tr style=\"text-align: right;\">\n",
       "      <th></th>\n",
       "      <th>0</th>\n",
       "      <th>1</th>\n",
       "      <th>2</th>\n",
       "      <th>3</th>\n",
       "      <th>4</th>\n",
       "    </tr>\n",
       "  </thead>\n",
       "  <tbody>\n",
       "    <tr>\n",
       "      <th>LYLTY_CARD_NBR</th>\n",
       "      <td>1000</td>\n",
       "      <td>1002</td>\n",
       "      <td>1003</td>\n",
       "      <td>1003</td>\n",
       "      <td>1004</td>\n",
       "    </tr>\n",
       "    <tr>\n",
       "      <th>DATE</th>\n",
       "      <td>2018-10-17</td>\n",
       "      <td>2018-09-16</td>\n",
       "      <td>2019-03-07</td>\n",
       "      <td>2019-03-08</td>\n",
       "      <td>2018-11-02</td>\n",
       "    </tr>\n",
       "    <tr>\n",
       "      <th>STORE_NBR</th>\n",
       "      <td>1</td>\n",
       "      <td>1</td>\n",
       "      <td>1</td>\n",
       "      <td>1</td>\n",
       "      <td>1</td>\n",
       "    </tr>\n",
       "    <tr>\n",
       "      <th>TXN_ID</th>\n",
       "      <td>1</td>\n",
       "      <td>2</td>\n",
       "      <td>3</td>\n",
       "      <td>4</td>\n",
       "      <td>5</td>\n",
       "    </tr>\n",
       "    <tr>\n",
       "      <th>PROD_NBR</th>\n",
       "      <td>5</td>\n",
       "      <td>58</td>\n",
       "      <td>52</td>\n",
       "      <td>106</td>\n",
       "      <td>96</td>\n",
       "    </tr>\n",
       "    <tr>\n",
       "      <th>PROD_NAME</th>\n",
       "      <td>Natural Chip        Compny SeaSalt175g</td>\n",
       "      <td>Red Rock Deli Chikn&amp;Garlic Aioli 150g</td>\n",
       "      <td>Grain Waves Sour    Cream&amp;Chives 210G</td>\n",
       "      <td>Natural ChipCo      Hony Soy Chckn175g</td>\n",
       "      <td>WW Original Stacked Chips 160g</td>\n",
       "    </tr>\n",
       "    <tr>\n",
       "      <th>PROD_QTY</th>\n",
       "      <td>2</td>\n",
       "      <td>1</td>\n",
       "      <td>1</td>\n",
       "      <td>1</td>\n",
       "      <td>1</td>\n",
       "    </tr>\n",
       "    <tr>\n",
       "      <th>TOT_SALES</th>\n",
       "      <td>6</td>\n",
       "      <td>2.7</td>\n",
       "      <td>3.6</td>\n",
       "      <td>3</td>\n",
       "      <td>1.9</td>\n",
       "    </tr>\n",
       "    <tr>\n",
       "      <th>PACK_SIZE</th>\n",
       "      <td>175</td>\n",
       "      <td>150</td>\n",
       "      <td>210</td>\n",
       "      <td>175</td>\n",
       "      <td>160</td>\n",
       "    </tr>\n",
       "    <tr>\n",
       "      <th>BRAND</th>\n",
       "      <td>NATURAL</td>\n",
       "      <td>RRD</td>\n",
       "      <td>GRNWVES</td>\n",
       "      <td>NATURAL</td>\n",
       "      <td>WOOLWORTHS</td>\n",
       "    </tr>\n",
       "    <tr>\n",
       "      <th>LIFESTAGE</th>\n",
       "      <td>YOUNG SINGLES/COUPLES</td>\n",
       "      <td>YOUNG SINGLES/COUPLES</td>\n",
       "      <td>YOUNG FAMILIES</td>\n",
       "      <td>YOUNG FAMILIES</td>\n",
       "      <td>OLDER SINGLES/COUPLES</td>\n",
       "    </tr>\n",
       "    <tr>\n",
       "      <th>PREMIUM_CUSTOMER</th>\n",
       "      <td>Premium</td>\n",
       "      <td>Mainstream</td>\n",
       "      <td>Budget</td>\n",
       "      <td>Budget</td>\n",
       "      <td>Mainstream</td>\n",
       "    </tr>\n",
       "  </tbody>\n",
       "</table>\n",
       "</div>"
      ],
      "text/plain": [
       "                                                       0  \\\n",
       "LYLTY_CARD_NBR                                      1000   \n",
       "DATE                                          2018-10-17   \n",
       "STORE_NBR                                              1   \n",
       "TXN_ID                                                 1   \n",
       "PROD_NBR                                               5   \n",
       "PROD_NAME         Natural Chip        Compny SeaSalt175g   \n",
       "PROD_QTY                                               2   \n",
       "TOT_SALES                                              6   \n",
       "PACK_SIZE                                            175   \n",
       "BRAND                                            NATURAL   \n",
       "LIFESTAGE                          YOUNG SINGLES/COUPLES   \n",
       "PREMIUM_CUSTOMER                                 Premium   \n",
       "\n",
       "                                                      1  \\\n",
       "LYLTY_CARD_NBR                                     1002   \n",
       "DATE                                         2018-09-16   \n",
       "STORE_NBR                                             1   \n",
       "TXN_ID                                                2   \n",
       "PROD_NBR                                             58   \n",
       "PROD_NAME         Red Rock Deli Chikn&Garlic Aioli 150g   \n",
       "PROD_QTY                                              1   \n",
       "TOT_SALES                                           2.7   \n",
       "PACK_SIZE                                           150   \n",
       "BRAND                                               RRD   \n",
       "LIFESTAGE                         YOUNG SINGLES/COUPLES   \n",
       "PREMIUM_CUSTOMER                             Mainstream   \n",
       "\n",
       "                                                      2  \\\n",
       "LYLTY_CARD_NBR                                     1003   \n",
       "DATE                                         2019-03-07   \n",
       "STORE_NBR                                             1   \n",
       "TXN_ID                                                3   \n",
       "PROD_NBR                                             52   \n",
       "PROD_NAME         Grain Waves Sour    Cream&Chives 210G   \n",
       "PROD_QTY                                              1   \n",
       "TOT_SALES                                           3.6   \n",
       "PACK_SIZE                                           210   \n",
       "BRAND                                           GRNWVES   \n",
       "LIFESTAGE                                YOUNG FAMILIES   \n",
       "PREMIUM_CUSTOMER                                 Budget   \n",
       "\n",
       "                                                       3  \\\n",
       "LYLTY_CARD_NBR                                      1003   \n",
       "DATE                                          2019-03-08   \n",
       "STORE_NBR                                              1   \n",
       "TXN_ID                                                 4   \n",
       "PROD_NBR                                             106   \n",
       "PROD_NAME         Natural ChipCo      Hony Soy Chckn175g   \n",
       "PROD_QTY                                               1   \n",
       "TOT_SALES                                              3   \n",
       "PACK_SIZE                                            175   \n",
       "BRAND                                            NATURAL   \n",
       "LIFESTAGE                                 YOUNG FAMILIES   \n",
       "PREMIUM_CUSTOMER                                  Budget   \n",
       "\n",
       "                                               4  \n",
       "LYLTY_CARD_NBR                              1004  \n",
       "DATE                                  2018-11-02  \n",
       "STORE_NBR                                      1  \n",
       "TXN_ID                                         5  \n",
       "PROD_NBR                                      96  \n",
       "PROD_NAME         WW Original Stacked Chips 160g  \n",
       "PROD_QTY                                       1  \n",
       "TOT_SALES                                    1.9  \n",
       "PACK_SIZE                                    160  \n",
       "BRAND                                 WOOLWORTHS  \n",
       "LIFESTAGE                  OLDER SINGLES/COUPLES  \n",
       "PREMIUM_CUSTOMER                      Mainstream  "
      ]
     },
     "execution_count": 3,
     "metadata": {},
     "output_type": "execute_result"
    }
   ],
   "source": [
    "df = pd.read_csv(\"trial_control.csv\")\n",
    "df.head().T"
   ]
  },
  {
   "cell_type": "markdown",
   "metadata": {},
   "source": [
    "**Rename Columns**"
   ]
  },
  {
   "cell_type": "code",
   "execution_count": 4,
   "metadata": {},
   "outputs": [
    {
     "data": {
      "text/html": [
       "<div>\n",
       "<style scoped>\n",
       "    .dataframe tbody tr th:only-of-type {\n",
       "        vertical-align: middle;\n",
       "    }\n",
       "\n",
       "    .dataframe tbody tr th {\n",
       "        vertical-align: top;\n",
       "    }\n",
       "\n",
       "    .dataframe thead th {\n",
       "        text-align: right;\n",
       "    }\n",
       "</style>\n",
       "<table border=\"1\" class=\"dataframe\">\n",
       "  <thead>\n",
       "    <tr style=\"text-align: right;\">\n",
       "      <th></th>\n",
       "      <th>0</th>\n",
       "      <th>1</th>\n",
       "      <th>2</th>\n",
       "      <th>3</th>\n",
       "      <th>4</th>\n",
       "    </tr>\n",
       "  </thead>\n",
       "  <tbody>\n",
       "    <tr>\n",
       "      <th>Card No.</th>\n",
       "      <td>1000</td>\n",
       "      <td>1002</td>\n",
       "      <td>1003</td>\n",
       "      <td>1003</td>\n",
       "      <td>1004</td>\n",
       "    </tr>\n",
       "    <tr>\n",
       "      <th>Date</th>\n",
       "      <td>2018-10-17</td>\n",
       "      <td>2018-09-16</td>\n",
       "      <td>2019-03-07</td>\n",
       "      <td>2019-03-08</td>\n",
       "      <td>2018-11-02</td>\n",
       "    </tr>\n",
       "    <tr>\n",
       "      <th>Store Id</th>\n",
       "      <td>1</td>\n",
       "      <td>1</td>\n",
       "      <td>1</td>\n",
       "      <td>1</td>\n",
       "      <td>1</td>\n",
       "    </tr>\n",
       "    <tr>\n",
       "      <th>Transaction Id</th>\n",
       "      <td>1</td>\n",
       "      <td>2</td>\n",
       "      <td>3</td>\n",
       "      <td>4</td>\n",
       "      <td>5</td>\n",
       "    </tr>\n",
       "    <tr>\n",
       "      <th>Product Id</th>\n",
       "      <td>5</td>\n",
       "      <td>58</td>\n",
       "      <td>52</td>\n",
       "      <td>106</td>\n",
       "      <td>96</td>\n",
       "    </tr>\n",
       "    <tr>\n",
       "      <th>Product</th>\n",
       "      <td>Natural Chip        Compny SeaSalt175g</td>\n",
       "      <td>Red Rock Deli Chikn&amp;Garlic Aioli 150g</td>\n",
       "      <td>Grain Waves Sour    Cream&amp;Chives 210G</td>\n",
       "      <td>Natural ChipCo      Hony Soy Chckn175g</td>\n",
       "      <td>WW Original Stacked Chips 160g</td>\n",
       "    </tr>\n",
       "    <tr>\n",
       "      <th>Quantity</th>\n",
       "      <td>2</td>\n",
       "      <td>1</td>\n",
       "      <td>1</td>\n",
       "      <td>1</td>\n",
       "      <td>1</td>\n",
       "    </tr>\n",
       "    <tr>\n",
       "      <th>Sales</th>\n",
       "      <td>6</td>\n",
       "      <td>2.7</td>\n",
       "      <td>3.6</td>\n",
       "      <td>3</td>\n",
       "      <td>1.9</td>\n",
       "    </tr>\n",
       "    <tr>\n",
       "      <th>PACK_SIZE</th>\n",
       "      <td>175</td>\n",
       "      <td>150</td>\n",
       "      <td>210</td>\n",
       "      <td>175</td>\n",
       "      <td>160</td>\n",
       "    </tr>\n",
       "    <tr>\n",
       "      <th>BRAND</th>\n",
       "      <td>NATURAL</td>\n",
       "      <td>RRD</td>\n",
       "      <td>GRNWVES</td>\n",
       "      <td>NATURAL</td>\n",
       "      <td>WOOLWORTHS</td>\n",
       "    </tr>\n",
       "    <tr>\n",
       "      <th>Group</th>\n",
       "      <td>YOUNG SINGLES/COUPLES</td>\n",
       "      <td>YOUNG SINGLES/COUPLES</td>\n",
       "      <td>YOUNG FAMILIES</td>\n",
       "      <td>YOUNG FAMILIES</td>\n",
       "      <td>OLDER SINGLES/COUPLES</td>\n",
       "    </tr>\n",
       "    <tr>\n",
       "      <th>Subscription</th>\n",
       "      <td>Premium</td>\n",
       "      <td>Mainstream</td>\n",
       "      <td>Budget</td>\n",
       "      <td>Budget</td>\n",
       "      <td>Mainstream</td>\n",
       "    </tr>\n",
       "  </tbody>\n",
       "</table>\n",
       "</div>"
      ],
      "text/plain": [
       "                                                     0  \\\n",
       "Card No.                                          1000   \n",
       "Date                                        2018-10-17   \n",
       "Store Id                                             1   \n",
       "Transaction Id                                       1   \n",
       "Product Id                                           5   \n",
       "Product         Natural Chip        Compny SeaSalt175g   \n",
       "Quantity                                             2   \n",
       "Sales                                                6   \n",
       "PACK_SIZE                                          175   \n",
       "BRAND                                          NATURAL   \n",
       "Group                            YOUNG SINGLES/COUPLES   \n",
       "Subscription                                   Premium   \n",
       "\n",
       "                                                    1  \\\n",
       "Card No.                                         1002   \n",
       "Date                                       2018-09-16   \n",
       "Store Id                                            1   \n",
       "Transaction Id                                      2   \n",
       "Product Id                                         58   \n",
       "Product         Red Rock Deli Chikn&Garlic Aioli 150g   \n",
       "Quantity                                            1   \n",
       "Sales                                             2.7   \n",
       "PACK_SIZE                                         150   \n",
       "BRAND                                             RRD   \n",
       "Group                           YOUNG SINGLES/COUPLES   \n",
       "Subscription                               Mainstream   \n",
       "\n",
       "                                                    2  \\\n",
       "Card No.                                         1003   \n",
       "Date                                       2019-03-07   \n",
       "Store Id                                            1   \n",
       "Transaction Id                                      3   \n",
       "Product Id                                         52   \n",
       "Product         Grain Waves Sour    Cream&Chives 210G   \n",
       "Quantity                                            1   \n",
       "Sales                                             3.6   \n",
       "PACK_SIZE                                         210   \n",
       "BRAND                                         GRNWVES   \n",
       "Group                                  YOUNG FAMILIES   \n",
       "Subscription                                   Budget   \n",
       "\n",
       "                                                     3  \\\n",
       "Card No.                                          1003   \n",
       "Date                                        2019-03-08   \n",
       "Store Id                                             1   \n",
       "Transaction Id                                       4   \n",
       "Product Id                                         106   \n",
       "Product         Natural ChipCo      Hony Soy Chckn175g   \n",
       "Quantity                                             1   \n",
       "Sales                                                3   \n",
       "PACK_SIZE                                          175   \n",
       "BRAND                                          NATURAL   \n",
       "Group                                   YOUNG FAMILIES   \n",
       "Subscription                                    Budget   \n",
       "\n",
       "                                             4  \n",
       "Card No.                                  1004  \n",
       "Date                                2018-11-02  \n",
       "Store Id                                     1  \n",
       "Transaction Id                               5  \n",
       "Product Id                                  96  \n",
       "Product         WW Original Stacked Chips 160g  \n",
       "Quantity                                     1  \n",
       "Sales                                      1.9  \n",
       "PACK_SIZE                                  160  \n",
       "BRAND                               WOOLWORTHS  \n",
       "Group                    OLDER SINGLES/COUPLES  \n",
       "Subscription                        Mainstream  "
      ]
     },
     "execution_count": 4,
     "metadata": {},
     "output_type": "execute_result"
    }
   ],
   "source": [
    "\n",
    "df = df.rename(columns = {\"LYLTY_CARD_NBR\": \"Card No.\",\n",
    "                     \"LIFESTAGE\": \"Group\",\n",
    "                     \"PREMIUM_CUSTOMER\": \"Subscription\",\n",
    "                     \"DATE\": \"Date\", \n",
    "                     \"STORE_NBR\": \"Store Id\",\n",
    "                     \"TXN_ID\": \"Transaction Id\",\n",
    "                     \"PROD_NBR\": \"Product Id\",\n",
    "                     \"PROD_NAME\": \"Product\",\n",
    "                     \"PROD_QTY\": \"Quantity\",\n",
    "                     \"TOT_SALES\": \"Sales\"})\n",
    "df.head().T"
   ]
  },
  {
   "cell_type": "markdown",
   "metadata": {},
   "source": [
    "**Date Format yyyymm**"
   ]
  },
  {
   "cell_type": "markdown",
   "metadata": {},
   "source": [
    "- Client has selected store numbers 77, 86 and 88 as trial stores.\n",
    "- Client wants control stores to be established stores that are operational for the entire observation period.\n",
    "- Trial period = 1 Feb 2019 to 30 April 2019.\n",
    "- Compare trial stores to control stores that are similar pre-trial. Similarity measurement:\n",
    "    - Monthly overall sales revenue\n",
    "    - Monthly number of customers\n",
    "    - Monthly number of transactions per customer"
   ]
  },
  {
   "cell_type": "code",
   "execution_count": 5,
   "metadata": {},
   "outputs": [],
   "source": [
    "df[\"Date\"] = pd.to_datetime(df[\"Date\"])\n",
    "df[\"Year Month\"] = df[\"Date\"].dt.strftime(\"%Y%m\").astype(\"int\")"
   ]
  },
  {
   "cell_type": "code",
   "execution_count": 6,
   "metadata": {},
   "outputs": [
    {
     "data": {
      "text/html": [
       "<div>\n",
       "<style scoped>\n",
       "    .dataframe tbody tr th:only-of-type {\n",
       "        vertical-align: middle;\n",
       "    }\n",
       "\n",
       "    .dataframe tbody tr th {\n",
       "        vertical-align: top;\n",
       "    }\n",
       "\n",
       "    .dataframe thead th {\n",
       "        text-align: right;\n",
       "    }\n",
       "</style>\n",
       "<table border=\"1\" class=\"dataframe\">\n",
       "  <thead>\n",
       "    <tr style=\"text-align: right;\">\n",
       "      <th></th>\n",
       "      <th>0</th>\n",
       "      <th>1</th>\n",
       "      <th>2</th>\n",
       "      <th>3</th>\n",
       "      <th>4</th>\n",
       "    </tr>\n",
       "  </thead>\n",
       "  <tbody>\n",
       "    <tr>\n",
       "      <th>Card No.</th>\n",
       "      <td>1000</td>\n",
       "      <td>1002</td>\n",
       "      <td>1003</td>\n",
       "      <td>1003</td>\n",
       "      <td>1004</td>\n",
       "    </tr>\n",
       "    <tr>\n",
       "      <th>Date</th>\n",
       "      <td>2018-10-17 00:00:00</td>\n",
       "      <td>2018-09-16 00:00:00</td>\n",
       "      <td>2019-03-07 00:00:00</td>\n",
       "      <td>2019-03-08 00:00:00</td>\n",
       "      <td>2018-11-02 00:00:00</td>\n",
       "    </tr>\n",
       "    <tr>\n",
       "      <th>Store Id</th>\n",
       "      <td>1</td>\n",
       "      <td>1</td>\n",
       "      <td>1</td>\n",
       "      <td>1</td>\n",
       "      <td>1</td>\n",
       "    </tr>\n",
       "    <tr>\n",
       "      <th>Transaction Id</th>\n",
       "      <td>1</td>\n",
       "      <td>2</td>\n",
       "      <td>3</td>\n",
       "      <td>4</td>\n",
       "      <td>5</td>\n",
       "    </tr>\n",
       "    <tr>\n",
       "      <th>Product Id</th>\n",
       "      <td>5</td>\n",
       "      <td>58</td>\n",
       "      <td>52</td>\n",
       "      <td>106</td>\n",
       "      <td>96</td>\n",
       "    </tr>\n",
       "    <tr>\n",
       "      <th>Product</th>\n",
       "      <td>Natural Chip        Compny SeaSalt175g</td>\n",
       "      <td>Red Rock Deli Chikn&amp;Garlic Aioli 150g</td>\n",
       "      <td>Grain Waves Sour    Cream&amp;Chives 210G</td>\n",
       "      <td>Natural ChipCo      Hony Soy Chckn175g</td>\n",
       "      <td>WW Original Stacked Chips 160g</td>\n",
       "    </tr>\n",
       "    <tr>\n",
       "      <th>Quantity</th>\n",
       "      <td>2</td>\n",
       "      <td>1</td>\n",
       "      <td>1</td>\n",
       "      <td>1</td>\n",
       "      <td>1</td>\n",
       "    </tr>\n",
       "    <tr>\n",
       "      <th>Sales</th>\n",
       "      <td>6</td>\n",
       "      <td>2.7</td>\n",
       "      <td>3.6</td>\n",
       "      <td>3</td>\n",
       "      <td>1.9</td>\n",
       "    </tr>\n",
       "    <tr>\n",
       "      <th>PACK_SIZE</th>\n",
       "      <td>175</td>\n",
       "      <td>150</td>\n",
       "      <td>210</td>\n",
       "      <td>175</td>\n",
       "      <td>160</td>\n",
       "    </tr>\n",
       "    <tr>\n",
       "      <th>BRAND</th>\n",
       "      <td>NATURAL</td>\n",
       "      <td>RRD</td>\n",
       "      <td>GRNWVES</td>\n",
       "      <td>NATURAL</td>\n",
       "      <td>WOOLWORTHS</td>\n",
       "    </tr>\n",
       "    <tr>\n",
       "      <th>Group</th>\n",
       "      <td>YOUNG SINGLES/COUPLES</td>\n",
       "      <td>YOUNG SINGLES/COUPLES</td>\n",
       "      <td>YOUNG FAMILIES</td>\n",
       "      <td>YOUNG FAMILIES</td>\n",
       "      <td>OLDER SINGLES/COUPLES</td>\n",
       "    </tr>\n",
       "    <tr>\n",
       "      <th>Subscription</th>\n",
       "      <td>Premium</td>\n",
       "      <td>Mainstream</td>\n",
       "      <td>Budget</td>\n",
       "      <td>Budget</td>\n",
       "      <td>Mainstream</td>\n",
       "    </tr>\n",
       "    <tr>\n",
       "      <th>Year Month</th>\n",
       "      <td>201810</td>\n",
       "      <td>201809</td>\n",
       "      <td>201903</td>\n",
       "      <td>201903</td>\n",
       "      <td>201811</td>\n",
       "    </tr>\n",
       "  </tbody>\n",
       "</table>\n",
       "</div>"
      ],
      "text/plain": [
       "                                                     0  \\\n",
       "Card No.                                          1000   \n",
       "Date                               2018-10-17 00:00:00   \n",
       "Store Id                                             1   \n",
       "Transaction Id                                       1   \n",
       "Product Id                                           5   \n",
       "Product         Natural Chip        Compny SeaSalt175g   \n",
       "Quantity                                             2   \n",
       "Sales                                                6   \n",
       "PACK_SIZE                                          175   \n",
       "BRAND                                          NATURAL   \n",
       "Group                            YOUNG SINGLES/COUPLES   \n",
       "Subscription                                   Premium   \n",
       "Year Month                                      201810   \n",
       "\n",
       "                                                    1  \\\n",
       "Card No.                                         1002   \n",
       "Date                              2018-09-16 00:00:00   \n",
       "Store Id                                            1   \n",
       "Transaction Id                                      2   \n",
       "Product Id                                         58   \n",
       "Product         Red Rock Deli Chikn&Garlic Aioli 150g   \n",
       "Quantity                                            1   \n",
       "Sales                                             2.7   \n",
       "PACK_SIZE                                         150   \n",
       "BRAND                                             RRD   \n",
       "Group                           YOUNG SINGLES/COUPLES   \n",
       "Subscription                               Mainstream   \n",
       "Year Month                                     201809   \n",
       "\n",
       "                                                    2  \\\n",
       "Card No.                                         1003   \n",
       "Date                              2019-03-07 00:00:00   \n",
       "Store Id                                            1   \n",
       "Transaction Id                                      3   \n",
       "Product Id                                         52   \n",
       "Product         Grain Waves Sour    Cream&Chives 210G   \n",
       "Quantity                                            1   \n",
       "Sales                                             3.6   \n",
       "PACK_SIZE                                         210   \n",
       "BRAND                                         GRNWVES   \n",
       "Group                                  YOUNG FAMILIES   \n",
       "Subscription                                   Budget   \n",
       "Year Month                                     201903   \n",
       "\n",
       "                                                     3  \\\n",
       "Card No.                                          1003   \n",
       "Date                               2019-03-08 00:00:00   \n",
       "Store Id                                             1   \n",
       "Transaction Id                                       4   \n",
       "Product Id                                         106   \n",
       "Product         Natural ChipCo      Hony Soy Chckn175g   \n",
       "Quantity                                             1   \n",
       "Sales                                                3   \n",
       "PACK_SIZE                                          175   \n",
       "BRAND                                          NATURAL   \n",
       "Group                                   YOUNG FAMILIES   \n",
       "Subscription                                    Budget   \n",
       "Year Month                                      201903   \n",
       "\n",
       "                                             4  \n",
       "Card No.                                  1004  \n",
       "Date                       2018-11-02 00:00:00  \n",
       "Store Id                                     1  \n",
       "Transaction Id                               5  \n",
       "Product Id                                  96  \n",
       "Product         WW Original Stacked Chips 160g  \n",
       "Quantity                                     1  \n",
       "Sales                                      1.9  \n",
       "PACK_SIZE                                  160  \n",
       "BRAND                               WOOLWORTHS  \n",
       "Group                    OLDER SINGLES/COUPLES  \n",
       "Subscription                        Mainstream  \n",
       "Year Month                              201811  "
      ]
     },
     "execution_count": 6,
     "metadata": {},
     "output_type": "execute_result"
    }
   ],
   "source": [
    "df.head().T"
   ]
  },
  {
   "cell_type": "markdown",
   "metadata": {},
   "source": [
    "### Calculate Each Stores Monthly\n",
    "- Total sales\n",
    "- Number of customers,\n",
    "- Average transactions per customer\n",
    "- Average chips per customer\n",
    "- Average price per unit"
   ]
  },
  {
   "cell_type": "code",
   "execution_count": 7,
   "metadata": {},
   "outputs": [],
   "source": [
    "def monthly_store_metrics():\n",
    "    store_year_month_group = df.groupby([\"Store Id\", \"Year Month\"])\n",
    "    total_sales = store_year_month_group[\"Sales\"].sum()\n",
    "    number_of_customers = store_year_month_group[\"Card No.\"].nunique()\n",
    "    average_transactions_per_customer = store_year_month_group.size() / number_of_customers\n",
    "    average_chips_per_customer = store_year_month_group[\"Quantity\"].sum() / number_of_customers\n",
    "    average_chips_price_per_unit = total_sales / store_year_month_group[\"Quantity\"].sum()\n",
    "    aggregates = [total_sales, number_of_customers, average_transactions_per_customer, average_chips_per_customer, average_chips_price_per_unit]\n",
    "    metrics = pd.concat(aggregates, axis = 1)\n",
    "    metrics.columns = [\"Sales\", \"Customers\", \"Average Transactions per Customer\", \"Average Chips per Customer\", \"Average Chips Price per Unit\"]\n",
    "    return metrics"
   ]
  },
  {
   "cell_type": "markdown",
   "metadata": {},
   "source": [
    "**Data Information**"
   ]
  },
  {
   "cell_type": "code",
   "execution_count": 8,
   "metadata": {},
   "outputs": [
    {
     "name": "stdout",
     "output_type": "stream",
     "text": [
      "<class 'pandas.core.frame.DataFrame'>\n",
      "RangeIndex: 3169 entries, 0 to 3168\n",
      "Data columns (total 7 columns):\n",
      " #   Column                             Non-Null Count  Dtype  \n",
      "---  ------                             --------------  -----  \n",
      " 0   Store Id                           3169 non-null   int64  \n",
      " 1   Year Month                         3169 non-null   int64  \n",
      " 2   Sales                              3169 non-null   float64\n",
      " 3   Customers                          3169 non-null   int64  \n",
      " 4   Average Transactions per Customer  3169 non-null   float64\n",
      " 5   Average Chips per Customer         3169 non-null   float64\n",
      " 6   Average Chips Price per Unit       3169 non-null   float64\n",
      "dtypes: float64(4), int64(3)\n",
      "memory usage: 173.4 KB\n"
     ]
    }
   ],
   "source": [
    "monthly_metrics = monthly_store_metrics().reset_index()\n",
    "monthly_metrics.info()"
   ]
  },
  {
   "cell_type": "markdown",
   "metadata": {},
   "source": [
    "### pre trial observation\n",
    "- filter only stores with full 12 months observation\n"
   ]
  },
  {
   "cell_type": "code",
   "execution_count": 9,
   "metadata": {},
   "outputs": [
    {
     "data": {
      "text/html": [
       "<div>\n",
       "<style scoped>\n",
       "    .dataframe tbody tr th:only-of-type {\n",
       "        vertical-align: middle;\n",
       "    }\n",
       "\n",
       "    .dataframe tbody tr th {\n",
       "        vertical-align: top;\n",
       "    }\n",
       "\n",
       "    .dataframe thead th {\n",
       "        text-align: right;\n",
       "    }\n",
       "</style>\n",
       "<table border=\"1\" class=\"dataframe\">\n",
       "  <thead>\n",
       "    <tr style=\"text-align: right;\">\n",
       "      <th></th>\n",
       "      <th>Store Id</th>\n",
       "      <th>Year Month</th>\n",
       "      <th>Sales</th>\n",
       "      <th>Customers</th>\n",
       "      <th>Average Transactions per Customer</th>\n",
       "      <th>Average Chips per Customer</th>\n",
       "      <th>Average Chips Price per Unit</th>\n",
       "    </tr>\n",
       "  </thead>\n",
       "  <tbody>\n",
       "    <tr>\n",
       "      <th>0</th>\n",
       "      <td>1</td>\n",
       "      <td>201807</td>\n",
       "      <td>206.9</td>\n",
       "      <td>49</td>\n",
       "      <td>1.061224</td>\n",
       "      <td>1.265306</td>\n",
       "      <td>3.337097</td>\n",
       "    </tr>\n",
       "    <tr>\n",
       "      <th>1</th>\n",
       "      <td>1</td>\n",
       "      <td>201808</td>\n",
       "      <td>176.1</td>\n",
       "      <td>42</td>\n",
       "      <td>1.023810</td>\n",
       "      <td>1.285714</td>\n",
       "      <td>3.261111</td>\n",
       "    </tr>\n",
       "    <tr>\n",
       "      <th>2</th>\n",
       "      <td>1</td>\n",
       "      <td>201809</td>\n",
       "      <td>278.8</td>\n",
       "      <td>59</td>\n",
       "      <td>1.050847</td>\n",
       "      <td>1.271186</td>\n",
       "      <td>3.717333</td>\n",
       "    </tr>\n",
       "    <tr>\n",
       "      <th>3</th>\n",
       "      <td>1</td>\n",
       "      <td>201810</td>\n",
       "      <td>188.1</td>\n",
       "      <td>44</td>\n",
       "      <td>1.022727</td>\n",
       "      <td>1.318182</td>\n",
       "      <td>3.243103</td>\n",
       "    </tr>\n",
       "    <tr>\n",
       "      <th>4</th>\n",
       "      <td>1</td>\n",
       "      <td>201811</td>\n",
       "      <td>192.6</td>\n",
       "      <td>46</td>\n",
       "      <td>1.021739</td>\n",
       "      <td>1.239130</td>\n",
       "      <td>3.378947</td>\n",
       "    </tr>\n",
       "  </tbody>\n",
       "</table>\n",
       "</div>"
      ],
      "text/plain": [
       "   Store Id  Year Month  Sales  Customers  Average Transactions per Customer  \\\n",
       "0         1      201807  206.9         49                           1.061224   \n",
       "1         1      201808  176.1         42                           1.023810   \n",
       "2         1      201809  278.8         59                           1.050847   \n",
       "3         1      201810  188.1         44                           1.022727   \n",
       "4         1      201811  192.6         46                           1.021739   \n",
       "\n",
       "   Average Chips per Customer  Average Chips Price per Unit  \n",
       "0                    1.265306                      3.337097  \n",
       "1                    1.285714                      3.261111  \n",
       "2                    1.271186                      3.717333  \n",
       "3                    1.318182                      3.243103  \n",
       "4                    1.239130                      3.378947  "
      ]
     },
     "execution_count": 9,
     "metadata": {},
     "output_type": "execute_result"
    }
   ],
   "source": [
    "observation_counts = monthly_metrics[\"Store Id\"].value_counts()\n",
    "observation_index = observation_counts[observation_counts == 12].index\n",
    "observation = monthly_metrics[monthly_metrics[\"Store Id\"].isin(observation_index)]\n",
    "pre_trial_observation = observation[observation[\"Year Month\"] < 201902]\n",
    "pre_trial_observation.head()"
   ]
  },
  {
   "cell_type": "markdown",
   "metadata": {},
   "source": [
    "### Correlation"
   ]
  },
  {
   "cell_type": "code",
   "execution_count": 10,
   "metadata": {},
   "outputs": [],
   "source": [
    "def correlation(metrics, store, table = pre_trial_observation):\n",
    "    control_stores = table[~table[\"Store Id\"].isin([77, 86, 88])][\"Store Id\"].unique()\n",
    "    corrs = pd.DataFrame(columns = [\"Year Month\", \"Trial Store\", \"Control Store\", \"Correlation Score\"])\n",
    "    trial_store = table[table[\"Store Id\"] == store][metrics].reset_index()\n",
    "    for control in control_stores:\n",
    "        concat_df = pd.DataFrame(columns = [\"Year Month\", \"Trial Store\", \"Control Store\", \"Correlation Score\"])\n",
    "        control_store = table[table[\"Store Id\"] == control][metrics].reset_index()\n",
    "        concat_df[\"Correlation Score\"] = trial_store.corrwith(control_store, axis = 1)\n",
    "        concat_df[\"Trial Store\"] = store\n",
    "        concat_df[\"Control Store\"] = control\n",
    "        concat_df[\"Year Month\"] = list(table[table[\"Store Id\"] == store][\"Year Month\"])\n",
    "        corrs = pd.concat([corrs, concat_df])\n",
    "    return corrs"
   ]
  },
  {
   "cell_type": "code",
   "execution_count": 11,
   "metadata": {},
   "outputs": [
    {
     "data": {
      "text/html": [
       "<div>\n",
       "<style scoped>\n",
       "    .dataframe tbody tr th:only-of-type {\n",
       "        vertical-align: middle;\n",
       "    }\n",
       "\n",
       "    .dataframe tbody tr th {\n",
       "        vertical-align: top;\n",
       "    }\n",
       "\n",
       "    .dataframe thead th {\n",
       "        text-align: right;\n",
       "    }\n",
       "</style>\n",
       "<table border=\"1\" class=\"dataframe\">\n",
       "  <thead>\n",
       "    <tr style=\"text-align: right;\">\n",
       "      <th></th>\n",
       "      <th>Year Month</th>\n",
       "      <th>Trial Store</th>\n",
       "      <th>Control Store</th>\n",
       "      <th>Correlation Score</th>\n",
       "    </tr>\n",
       "  </thead>\n",
       "  <tbody>\n",
       "    <tr>\n",
       "      <th>0</th>\n",
       "      <td>201807</td>\n",
       "      <td>77</td>\n",
       "      <td>1</td>\n",
       "      <td>0.070414</td>\n",
       "    </tr>\n",
       "    <tr>\n",
       "      <th>1</th>\n",
       "      <td>201808</td>\n",
       "      <td>77</td>\n",
       "      <td>1</td>\n",
       "      <td>0.027276</td>\n",
       "    </tr>\n",
       "    <tr>\n",
       "      <th>2</th>\n",
       "      <td>201809</td>\n",
       "      <td>77</td>\n",
       "      <td>1</td>\n",
       "      <td>0.002389</td>\n",
       "    </tr>\n",
       "    <tr>\n",
       "      <th>3</th>\n",
       "      <td>201810</td>\n",
       "      <td>77</td>\n",
       "      <td>1</td>\n",
       "      <td>-0.020045</td>\n",
       "    </tr>\n",
       "    <tr>\n",
       "      <th>4</th>\n",
       "      <td>201811</td>\n",
       "      <td>77</td>\n",
       "      <td>1</td>\n",
       "      <td>0.030024</td>\n",
       "    </tr>\n",
       "    <tr>\n",
       "      <th>5</th>\n",
       "      <td>201812</td>\n",
       "      <td>77</td>\n",
       "      <td>1</td>\n",
       "      <td>0.063946</td>\n",
       "    </tr>\n",
       "    <tr>\n",
       "      <th>6</th>\n",
       "      <td>201901</td>\n",
       "      <td>77</td>\n",
       "      <td>1</td>\n",
       "      <td>0.001470</td>\n",
       "    </tr>\n",
       "    <tr>\n",
       "      <th>0</th>\n",
       "      <td>201807</td>\n",
       "      <td>77</td>\n",
       "      <td>2</td>\n",
       "      <td>0.142957</td>\n",
       "    </tr>\n",
       "  </tbody>\n",
       "</table>\n",
       "</div>"
      ],
      "text/plain": [
       "  Year Month Trial Store Control Store  Correlation Score\n",
       "0     201807          77             1           0.070414\n",
       "1     201808          77             1           0.027276\n",
       "2     201809          77             1           0.002389\n",
       "3     201810          77             1          -0.020045\n",
       "4     201811          77             1           0.030024\n",
       "5     201812          77             1           0.063946\n",
       "6     201901          77             1           0.001470\n",
       "0     201807          77             2           0.142957"
      ]
     },
     "execution_count": 11,
     "metadata": {},
     "output_type": "execute_result"
    }
   ],
   "source": [
    "corr_table = pd.DataFrame()\n",
    "for trial_num in [77, 86, 88]:\n",
    "    corr_table = pd.concat([corr_table, correlation([\"Sales\", \"Customers\", \"Average Transactions per Customer\", \"Average Chips per Customer\", \"Average Chips Price per Unit\"], trial_num)])\n",
    "corr_table.head(8)"
   ]
  },
  {
   "cell_type": "code",
   "execution_count": 12,
   "metadata": {},
   "outputs": [],
   "source": [
    "def magnitude(metrics, store, table = pre_trial_observation):\n",
    "    control_store_numbers = table[~table[\"Store Id\"].isin([77, 86, 88])][\"Store Id\"].unique()\n",
    "    dframe = pd.DataFrame()\n",
    "    trial_store = table[table[\"Store Id\"] == store][metrics]\n",
    "    for control in control_store_numbers:\n",
    "        concat_df = abs(table[table[\"Store Id\"] == store].reset_index()[metrics] - table[table[\"Store Id\"] == control].reset_index()[metrics])\n",
    "        concat_df[\"Year Month\"] = list(table[table[\"Store Id\"] == store][\"Year Month\"])\n",
    "        concat_df[\"Trial Store\"] = store\n",
    "        concat_df[\"Control Store\"] = control\n",
    "        dframe = pd.concat([dframe, concat_df])\n",
    "    for col in metrics:\n",
    "        dframe[col] = 1 - ((dframe[col] - dframe[col].min()) / (dframe[col].max() - dframe[col].min()))\n",
    "    dframe[\"magnitude\"] = dframe[metrics].mean(axis = 1)\n",
    "    return dframe"
   ]
  },
  {
   "cell_type": "code",
   "execution_count": 13,
   "metadata": {
    "scrolled": false
   },
   "outputs": [
    {
     "data": {
      "text/html": [
       "<div>\n",
       "<style scoped>\n",
       "    .dataframe tbody tr th:only-of-type {\n",
       "        vertical-align: middle;\n",
       "    }\n",
       "\n",
       "    .dataframe tbody tr th {\n",
       "        vertical-align: top;\n",
       "    }\n",
       "\n",
       "    .dataframe thead th {\n",
       "        text-align: right;\n",
       "    }\n",
       "</style>\n",
       "<table border=\"1\" class=\"dataframe\">\n",
       "  <thead>\n",
       "    <tr style=\"text-align: right;\">\n",
       "      <th></th>\n",
       "      <th>Sales</th>\n",
       "      <th>Customers</th>\n",
       "      <th>Average Transactions per Customer</th>\n",
       "      <th>Average Chips per Customer</th>\n",
       "      <th>Average Chips Price per Unit</th>\n",
       "      <th>Year Month</th>\n",
       "      <th>Trial Store</th>\n",
       "      <th>Control Store</th>\n",
       "      <th>magnitude</th>\n",
       "    </tr>\n",
       "  </thead>\n",
       "  <tbody>\n",
       "    <tr>\n",
       "      <th>0</th>\n",
       "      <td>0.935431</td>\n",
       "      <td>0.980769</td>\n",
       "      <td>0.958035</td>\n",
       "      <td>0.739412</td>\n",
       "      <td>0.883569</td>\n",
       "      <td>201807</td>\n",
       "      <td>77</td>\n",
       "      <td>1</td>\n",
       "      <td>0.899443</td>\n",
       "    </tr>\n",
       "    <tr>\n",
       "      <th>1</th>\n",
       "      <td>0.942972</td>\n",
       "      <td>0.951923</td>\n",
       "      <td>0.993823</td>\n",
       "      <td>0.802894</td>\n",
       "      <td>0.886328</td>\n",
       "      <td>201808</td>\n",
       "      <td>77</td>\n",
       "      <td>1</td>\n",
       "      <td>0.915588</td>\n",
       "    </tr>\n",
       "    <tr>\n",
       "      <th>2</th>\n",
       "      <td>0.961503</td>\n",
       "      <td>0.836538</td>\n",
       "      <td>0.992126</td>\n",
       "      <td>0.730041</td>\n",
       "      <td>0.703027</td>\n",
       "      <td>201809</td>\n",
       "      <td>77</td>\n",
       "      <td>1</td>\n",
       "      <td>0.844647</td>\n",
       "    </tr>\n",
       "    <tr>\n",
       "      <th>3</th>\n",
       "      <td>0.988221</td>\n",
       "      <td>0.932692</td>\n",
       "      <td>0.989514</td>\n",
       "      <td>0.940460</td>\n",
       "      <td>0.590528</td>\n",
       "      <td>201810</td>\n",
       "      <td>77</td>\n",
       "      <td>1</td>\n",
       "      <td>0.888283</td>\n",
       "    </tr>\n",
       "    <tr>\n",
       "      <th>4</th>\n",
       "      <td>0.962149</td>\n",
       "      <td>0.951923</td>\n",
       "      <td>0.874566</td>\n",
       "      <td>0.730358</td>\n",
       "      <td>0.832481</td>\n",
       "      <td>201811</td>\n",
       "      <td>77</td>\n",
       "      <td>1</td>\n",
       "      <td>0.870296</td>\n",
       "    </tr>\n",
       "    <tr>\n",
       "      <th>5</th>\n",
       "      <td>0.944193</td>\n",
       "      <td>0.961538</td>\n",
       "      <td>0.868716</td>\n",
       "      <td>0.857966</td>\n",
       "      <td>0.770744</td>\n",
       "      <td>201812</td>\n",
       "      <td>77</td>\n",
       "      <td>1</td>\n",
       "      <td>0.880632</td>\n",
       "    </tr>\n",
       "    <tr>\n",
       "      <th>6</th>\n",
       "      <td>0.964375</td>\n",
       "      <td>1.000000</td>\n",
       "      <td>0.790956</td>\n",
       "      <td>0.551428</td>\n",
       "      <td>0.678728</td>\n",
       "      <td>201901</td>\n",
       "      <td>77</td>\n",
       "      <td>1</td>\n",
       "      <td>0.797098</td>\n",
       "    </tr>\n",
       "    <tr>\n",
       "      <th>0</th>\n",
       "      <td>0.895138</td>\n",
       "      <td>0.884615</td>\n",
       "      <td>0.933787</td>\n",
       "      <td>0.680831</td>\n",
       "      <td>0.848622</td>\n",
       "      <td>201807</td>\n",
       "      <td>77</td>\n",
       "      <td>2</td>\n",
       "      <td>0.848599</td>\n",
       "    </tr>\n",
       "  </tbody>\n",
       "</table>\n",
       "</div>"
      ],
      "text/plain": [
       "      Sales  Customers  Average Transactions per Customer  \\\n",
       "0  0.935431   0.980769                           0.958035   \n",
       "1  0.942972   0.951923                           0.993823   \n",
       "2  0.961503   0.836538                           0.992126   \n",
       "3  0.988221   0.932692                           0.989514   \n",
       "4  0.962149   0.951923                           0.874566   \n",
       "5  0.944193   0.961538                           0.868716   \n",
       "6  0.964375   1.000000                           0.790956   \n",
       "0  0.895138   0.884615                           0.933787   \n",
       "\n",
       "   Average Chips per Customer  Average Chips Price per Unit  Year Month  \\\n",
       "0                    0.739412                      0.883569      201807   \n",
       "1                    0.802894                      0.886328      201808   \n",
       "2                    0.730041                      0.703027      201809   \n",
       "3                    0.940460                      0.590528      201810   \n",
       "4                    0.730358                      0.832481      201811   \n",
       "5                    0.857966                      0.770744      201812   \n",
       "6                    0.551428                      0.678728      201901   \n",
       "0                    0.680831                      0.848622      201807   \n",
       "\n",
       "   Trial Store  Control Store  magnitude  \n",
       "0           77              1   0.899443  \n",
       "1           77              1   0.915588  \n",
       "2           77              1   0.844647  \n",
       "3           77              1   0.888283  \n",
       "4           77              1   0.870296  \n",
       "5           77              1   0.880632  \n",
       "6           77              1   0.797098  \n",
       "0           77              2   0.848599  "
      ]
     },
     "execution_count": 13,
     "metadata": {},
     "output_type": "execute_result"
    }
   ],
   "source": [
    "dframe_table = pd.DataFrame()\n",
    "for trial_num in [77, 86, 88]:\n",
    "    dframe_table = pd.concat([dframe_table, magnitude([\"Sales\", \"Customers\", \"Average Transactions per Customer\", \"Average Chips per Customer\", \"Average Chips Price per Unit\"], trial_num)])\n",
    "    \n",
    "dframe_table.head(8)"
   ]
  },
  {
   "cell_type": "markdown",
   "metadata": {},
   "source": [
    "**We'll select control stores based on how similar monthly total sales in dollar amounts and monthly number of customers are to the trial stores by using correlation and magnitude distance.**"
   ]
  },
  {
   "cell_type": "code",
   "execution_count": 14,
   "metadata": {},
   "outputs": [],
   "source": [
    "def combine_corr_dframe(metrics, store, table = pre_trial_observation):\n",
    "    corrs = correlation(metrics, store, table)\n",
    "    dframe = magnitude(metrics, store, table)\n",
    "    dframe = dframe.drop(metrics, axis = 1)\n",
    "    combine = pd.merge(corrs, dframe, on = [\"Year Month\", \"Trial Store\", \"Control Store\"])\n",
    "    return combine"
   ]
  },
  {
   "cell_type": "code",
   "execution_count": 15,
   "metadata": {},
   "outputs": [],
   "source": [
    "compare_metrics_table1 = pd.DataFrame()\n",
    "for trial_num in [77, 86, 88]:\n",
    "    compare_metrics_table1 = pd.concat([compare_metrics_table1, combine_corr_dframe([\"Sales\"], trial_num)])"
   ]
  },
  {
   "cell_type": "code",
   "execution_count": 16,
   "metadata": {},
   "outputs": [],
   "source": [
    "corr_weight = 0.5\n",
    "dist_weight = 1 - corr_weight"
   ]
  },
  {
   "cell_type": "markdown",
   "metadata": {},
   "source": [
    "**Top 5 highest Composite Score for each Trial Store based on TOT_SALES**"
   ]
  },
  {
   "cell_type": "code",
   "execution_count": 17,
   "metadata": {},
   "outputs": [
    {
     "name": "stdout",
     "output_type": "stream",
     "text": [
      "     Trial Store  Control Store  Correlation Score  magnitude  Composite Score\n",
      "218           77            233                1.0   0.986477         0.993238\n",
      "239           77            255                1.0   0.979479         0.989739\n",
      "177           77            188                1.0   0.977663         0.988831\n",
      "49            77             53                1.0   0.976678         0.988339\n",
      "120           77            131                1.0   0.976267         0.988134 \n",
      "\n",
      "     Trial Store  Control Store  Correlation Score  magnitude  Composite Score\n",
      "356           86            109                1.0   0.966783         0.983391\n",
      "401           86            155                1.0   0.965876         0.982938\n",
      "464           86            222                1.0   0.962280         0.981140\n",
      "467           86            225                1.0   0.960512         0.980256\n",
      "471           86            229                1.0   0.951704         0.975852 \n",
      "\n",
      "     Trial Store  Control Store  Correlation Score  magnitude  Composite Score\n",
      "551           88             40                1.0   0.941165         0.970582\n",
      "538           88             26                1.0   0.904377         0.952189\n",
      "582           88             72                1.0   0.903800         0.951900\n",
      "517           88              4                1.0   0.903466         0.951733\n",
      "568           88             58                1.0   0.891678         0.945839 \n",
      "\n"
     ]
    }
   ],
   "source": [
    "grouped_comparison_table1 = compare_metrics_table1.groupby([\"Trial Store\", \"Control Store\"]).mean().reset_index()\n",
    "grouped_comparison_table1[\"Composite Score\"] = (corr_weight * grouped_comparison_table1[\"Correlation Score\"]) + (dist_weight * grouped_comparison_table1[\"magnitude\"])\n",
    "for trial_num in compare_metrics_table1[\"Trial Store\"].unique():\n",
    "    print(grouped_comparison_table1[grouped_comparison_table1[\"Trial Store\"] == trial_num].sort_values(ascending = False, by = \"Composite Score\").head(), \"\\n\")   "
   ]
  },
  {
   "cell_type": "code",
   "execution_count": 18,
   "metadata": {},
   "outputs": [],
   "source": [
    "compare_metrics_table2 = pd.DataFrame()\n",
    "for trial_num in [77, 86, 88]:\n",
    "    compare_metrics_table2 = pd.concat([compare_metrics_table2, combine_corr_dframe([\"Customers\"], trial_num)])"
   ]
  },
  {
   "cell_type": "markdown",
   "metadata": {},
   "source": [
    "**Top 5 highest Composite Score for each Trial Store based on Customers**"
   ]
  },
  {
   "cell_type": "code",
   "execution_count": 19,
   "metadata": {},
   "outputs": [
    {
     "name": "stdout",
     "output_type": "stream",
     "text": [
      "     Trial Store  Control Store  Correlation Score  magnitude  Composite Score\n",
      "218           77            233                1.0   0.993132         0.996566\n",
      "38            77             41                1.0   0.976648         0.988324\n",
      "101           77            111                1.0   0.968407         0.984203\n",
      "105           77            115                1.0   0.967033         0.983516\n",
      "15            77             17                1.0   0.965659         0.982830 \n",
      "\n",
      "     Trial Store  Control Store  Correlation Score  magnitude  Composite Score\n",
      "401           86            155                1.0   0.986772         0.993386\n",
      "467           86            225                1.0   0.969577         0.984788\n",
      "356           86            109                1.0   0.969577         0.984788\n",
      "471           86            229                1.0   0.964286         0.982143\n",
      "293           86             39                1.0   0.961640         0.980820 \n",
      "\n",
      "     Trial Store  Control Store  Correlation Score  magnitude  Composite Score\n",
      "736           88            237                1.0   0.987818         0.993909\n",
      "705           88            203                1.0   0.944629         0.972315\n",
      "551           88             40                1.0   0.942414         0.971207\n",
      "668           88            165                1.0   0.935770         0.967885\n",
      "701           88            199                1.0   0.932447         0.966224 \n",
      "\n"
     ]
    }
   ],
   "source": [
    "grouped_comparison_table2 = compare_metrics_table2.groupby([\"Trial Store\", \"Control Store\"]).mean().reset_index()\n",
    "grouped_comparison_table2[\"Composite Score\"] = (corr_weight * grouped_comparison_table2[\"Correlation Score\"]) + (dist_weight * grouped_comparison_table2[\"magnitude\"])\n",
    "for trial_num in compare_metrics_table2[\"Trial Store\"].unique():\n",
    "    print(grouped_comparison_table2[grouped_comparison_table2[\"Trial Store\"] == trial_num].sort_values(ascending = False, by = \"Composite Score\").head(), \"\\n\")"
   ]
  },
  {
   "cell_type": "code",
   "execution_count": 20,
   "metadata": {},
   "outputs": [
    {
     "name": "stdout",
     "output_type": "stream",
     "text": [
      "Trial Store  Control Store\n",
      "77           233              0.994902\n",
      "             41               0.986020\n",
      "             46               0.984762\n",
      "dtype: float64 \n",
      "\n",
      "Trial Store  Control Store\n",
      "86           155              0.988162\n",
      "             109              0.984090\n",
      "             225              0.982522\n",
      "dtype: float64 \n",
      "\n",
      "Trial Store  Control Store\n",
      "88           40               0.970895\n",
      "             26               0.958929\n",
      "             72               0.954079\n",
      "dtype: float64 \n",
      "\n"
     ]
    }
   ],
   "source": [
    "for trial_num in compare_metrics_table2[\"Trial Store\"].unique():\n",
    "    a = grouped_comparison_table1[grouped_comparison_table1[\"Trial Store\"] == trial_num].sort_values(ascending = False, by = \"Composite Score\").set_index([\"Trial Store\", \"Control Store\"])[\"Composite Score\"]\n",
    "    b = grouped_comparison_table2[grouped_comparison_table2[\"Trial Store\"] == trial_num].sort_values(ascending = False, by = \"Composite Score\").set_index([\"Trial Store\", \"Control Store\"])[\"Composite Score\"]\n",
    "    print((pd.concat([a, b], axis = 1).sum(axis = 1) / 2).sort_values(ascending = False).head(3), \"\\n\")"
   ]
  },
  {
   "cell_type": "markdown",
   "metadata": {},
   "source": [
    "**Top 3 similarity based on Sales:**\n",
    "\n",
    "- Trial store 77: Store 233, 255, 188\n",
    "- Trial store 86: Store 109, 155, 222\n",
    "- Trial store 88: Store 40, 26, 72\n",
    "\n",
    "**Top 3 similartiy based on Customers:**\n",
    "\n",
    "- Trial store 77: Store 233, 41, 111\n",
    "- Trial store 86: Store 155, 225, 109\n",
    "- Trial store 88: Store 237, 203, 40\n",
    "\n",
    "**Based on highest average of both features combined:**\n",
    "\n",
    "- Trial store 77: Store 233\n",
    "- Trial store 86: Store 155\n",
    "- Trial store 88: Store 40"
   ]
  },
  {
   "cell_type": "code",
   "execution_count": 21,
   "metadata": {
    "scrolled": false
   },
   "outputs": [
    {
     "data": {
      "image/png": "[encoded data removed]",
      "text/plain": [
       "<Figure size 432x288 with 1 Axes>"
      ]
     },
     "metadata": {
      "needs_background": "light"
     },
     "output_type": "display_data"
    },
    {
     "data": {
      "image/png": "[encoded data removed]",
      "text/plain": [
       "<Figure size 432x288 with 1 Axes>"
      ]
     },
     "metadata": {
      "needs_background": "light"
     },
     "output_type": "display_data"
    },
    {
     "name": "stdout",
     "output_type": "stream",
     "text": [
      "\n",
      "\n",
      "\n"
     ]
    },
    {
     "data": {
      "image/png": "[encoded data removed]",
      "text/plain": [
       "<Figure size 432x288 with 1 Axes>"
      ]
     },
     "metadata": {
      "needs_background": "light"
     },
     "output_type": "display_data"
    },
    {
     "data": {
      "image/png": "[encoded data removed]",
      "text/plain": [
       "<Figure size 432x288 with 1 Axes>"
      ]
     },
     "metadata": {
      "needs_background": "light"
     },
     "output_type": "display_data"
    },
    {
     "name": "stdout",
     "output_type": "stream",
     "text": [
      "\n",
      "\n",
      "\n"
     ]
    },
    {
     "data": {
      "image/png": "[encoded data removed]",
      "text/plain": [
       "<Figure size 432x288 with 1 Axes>"
      ]
     },
     "metadata": {
      "needs_background": "light"
     },
     "output_type": "display_data"
    },
    {
     "data": {
      "image/png": "[encoded data removed]",
      "text/plain": [
       "<Figure size 432x288 with 1 Axes>"
      ]
     },
     "metadata": {
      "needs_background": "light"
     },
     "output_type": "display_data"
    },
    {
     "name": "stdout",
     "output_type": "stream",
     "text": [
      "\n",
      "\n",
      "\n"
     ]
    }
   ],
   "source": [
    "trial_control = {77:233, 86:155, 88:40}\n",
    "for key, val in trial_control.items():\n",
    "    pre_trial_observation[pre_trial_observation[\"Store Id\"].isin([key, val])].groupby([\"Year Month\", \"Store Id\"]).sum()[\"Sales\"].unstack().plot.bar()\n",
    "    plt.legend(loc = \"center left\", bbox_to_anchor = (1.0, 0.5))\n",
    "    plt.title(\"Trial Store \" + str(key) + \" and Control Store \" + str(val) + \" - Sales\")\n",
    "    plt.show()\n",
    "    pre_trial_observation[pre_trial_observation[\"Store Id\"].isin([key, val])].groupby([\"Year Month\", \"Store Id\"]).sum()[\"Customers\"].unstack().plot.bar()\n",
    "    plt.legend(loc = \"center left\", bbox_to_anchor = (1.0, 0.5))\n",
    "    plt.title(\"Trial Store \" + str(key) + \" and Control Store \" + str(val) + \" - Customers\")\n",
    "    plt.show()\n",
    "    print(\"\\n\\n\")"
   ]
  },
  {
   "cell_type": "markdown",
   "metadata": {},
   "source": [
    "**Next we'll compare the performance of Trial stores to Control stores during the trial period. To ensure their performance is comparable during Trial period, we need to scale (multiply to ratio of trial / control) all of Control stores' performance to Trial store's performance during pre-trial. Starting with TOT_SALES.**"
   ]
  },
  {
   "cell_type": "code",
   "execution_count": 22,
   "metadata": {},
   "outputs": [],
   "source": [
    "# Ratio of Store 77 and its Control store.\n",
    "sales_ratio_77 = pre_trial_observation[pre_trial_observation[\"Store Id\"] == 77][\"Sales\"].sum() / pre_trial_observation[pre_trial_observation[\"Store Id\"] == 233][\"Sales\"].sum()\n",
    "\n",
    "# Ratio of Store 86 and its Control store.\n",
    "sales_ratio_86 = pre_trial_observation[pre_trial_observation[\"Store Id\"] == 86][\"Sales\"].sum() / pre_trial_observation[pre_trial_observation[\"Store Id\"] == 155][\"Sales\"].sum()\n",
    "\n",
    "# Ratio of Store 88 and its Control store.\n",
    "sales_ratio_88 = pre_trial_observation[pre_trial_observation[\"Store Id\"] == 88][\"Sales\"].sum() / pre_trial_observation[pre_trial_observation[\"Store Id\"] == 40][\"Sales\"].sum()"
   ]
  },
  {
   "cell_type": "code",
   "execution_count": 23,
   "metadata": {},
   "outputs": [],
   "source": [
    "trial_observation = observation[(observation[\"Year Month\"] >= 201902) & (observation[\"Year Month\"] <= 201904)]\n",
    "scaled_sales_control_stores = observation[observation[\"Store Id\"].isin([233, 155, 40])][[\"Store Id\", \"Year Month\", \"Sales\"]]\n",
    "def scalar(row):\n",
    "    if row[\"Store Id\"] == 233:\n",
    "        return row[\"Sales\"] * sales_ratio_77\n",
    "    \n",
    "    elif row[\"Store Id\"] == 155:\n",
    "        return row[\"Sales\"] * sales_ratio_86\n",
    "    \n",
    "    elif row[\"Store Id\"] == 40:\n",
    "        return row[\"Sales\"] * sales_ratio_88\n",
    "\n",
    "scaled_sales_control_stores[\"Scaled Sales\"] = scaled_sales_control_stores.apply(lambda row: scalar(row), axis = 1)\n",
    "trial_scaled_sales_control_stores = scaled_sales_control_stores[(scaled_sales_control_stores[\"Year Month\"] >= 201902) & (scaled_sales_control_stores[\"Year Month\"] <= 201904)]\n",
    "pre_trial_scaled_sales_control_stores = scaled_sales_control_stores[scaled_sales_control_stores[\"Year Month\"] < 201902]"
   ]
  },
  {
   "cell_type": "code",
   "execution_count": 24,
   "metadata": {},
   "outputs": [
    {
     "data": {
      "image/png": "[encoded data removed]",
      "text/plain": [
       "<Figure size 432x288 with 1 Axes>"
      ]
     },
     "metadata": {
      "needs_background": "light"
     },
     "output_type": "display_data"
    },
    {
     "data": {
      "image/png": "[encoded data removed]",
      "text/plain": [
       "<Figure size 432x288 with 1 Axes>"
      ]
     },
     "metadata": {
      "needs_background": "light"
     },
     "output_type": "display_data"
    },
    {
     "data": {
      "image/png": "[encoded data removed]",
      "text/plain": [
       "<Figure size 432x288 with 1 Axes>"
      ]
     },
     "metadata": {
      "needs_background": "light"
     },
     "output_type": "display_data"
    }
   ],
   "source": [
    "percentage_diff = {}\n",
    "\n",
    "for trial, control in trial_control.items():\n",
    "    a = trial_scaled_sales_control_stores[trial_scaled_sales_control_stores[\"Store Id\"] == control]\n",
    "    b = trial_observation[trial_observation[\"Store Id\"] == trial][[\"Store Id\", \"Year Month\", \"Sales\"]]\n",
    "    percentage_diff[trial] = b[\"Sales\"].sum() / a[\"Sales\"].sum()\n",
    "    b[[\"Year Month\", \"Sales\"]].merge(a[[\"Year Month\", \"Scaled Sales\"]],on=\"Year Month\").set_index(\"Year Month\").rename(columns={\"Scaled Sales\":\"Scaled Control Sales\", \"Sales\":\"Trial Sales\"}).plot.bar()\n",
    "    plt.legend(loc='center left', bbox_to_anchor=(1.0, 0.5))\n",
    "    plt.title(\"Trial Store \"+str(trial)+\" and Control Store \"+str(control))"
   ]
  },
  {
   "cell_type": "markdown",
   "metadata": {},
   "source": [
    "**Creating a compiled percentage_difference table**"
   ]
  },
  {
   "cell_type": "code",
   "execution_count": 25,
   "metadata": {},
   "outputs": [
    {
     "data": {
      "text/html": [
       "<div>\n",
       "<style scoped>\n",
       "    .dataframe tbody tr th:only-of-type {\n",
       "        vertical-align: middle;\n",
       "    }\n",
       "\n",
       "    .dataframe tbody tr th {\n",
       "        vertical-align: top;\n",
       "    }\n",
       "\n",
       "    .dataframe thead th {\n",
       "        text-align: right;\n",
       "    }\n",
       "</style>\n",
       "<table border=\"1\" class=\"dataframe\">\n",
       "  <thead>\n",
       "    <tr style=\"text-align: right;\">\n",
       "      <th></th>\n",
       "      <th>Control Store Id</th>\n",
       "      <th>Year Month</th>\n",
       "      <th>Control Scaled Sales</th>\n",
       "      <th>Trial Store Id</th>\n",
       "      <th>Trial Sales</th>\n",
       "      <th>Sales Percentage Diff</th>\n",
       "      <th>Trial Period</th>\n",
       "    </tr>\n",
       "  </thead>\n",
       "  <tbody>\n",
       "    <tr>\n",
       "      <th>7</th>\n",
       "      <td>233</td>\n",
       "      <td>201902</td>\n",
       "      <td>249.762622</td>\n",
       "      <td>77</td>\n",
       "      <td>235.0</td>\n",
       "      <td>-0.060907</td>\n",
       "      <td>trial</td>\n",
       "    </tr>\n",
       "    <tr>\n",
       "      <th>8</th>\n",
       "      <td>233</td>\n",
       "      <td>201903</td>\n",
       "      <td>203.802205</td>\n",
       "      <td>77</td>\n",
       "      <td>278.5</td>\n",
       "      <td>0.309755</td>\n",
       "      <td>trial</td>\n",
       "    </tr>\n",
       "    <tr>\n",
       "      <th>9</th>\n",
       "      <td>233</td>\n",
       "      <td>201904</td>\n",
       "      <td>162.345704</td>\n",
       "      <td>77</td>\n",
       "      <td>263.5</td>\n",
       "      <td>0.475075</td>\n",
       "      <td>trial</td>\n",
       "    </tr>\n",
       "    <tr>\n",
       "      <th>19</th>\n",
       "      <td>155</td>\n",
       "      <td>201902</td>\n",
       "      <td>864.522060</td>\n",
       "      <td>86</td>\n",
       "      <td>913.2</td>\n",
       "      <td>0.054764</td>\n",
       "      <td>trial</td>\n",
       "    </tr>\n",
       "    <tr>\n",
       "      <th>20</th>\n",
       "      <td>155</td>\n",
       "      <td>201903</td>\n",
       "      <td>780.320405</td>\n",
       "      <td>86</td>\n",
       "      <td>1026.8</td>\n",
       "      <td>0.272787</td>\n",
       "      <td>trial</td>\n",
       "    </tr>\n",
       "    <tr>\n",
       "      <th>21</th>\n",
       "      <td>155</td>\n",
       "      <td>201904</td>\n",
       "      <td>819.317024</td>\n",
       "      <td>86</td>\n",
       "      <td>848.2</td>\n",
       "      <td>0.034642</td>\n",
       "      <td>trial</td>\n",
       "    </tr>\n",
       "    <tr>\n",
       "      <th>31</th>\n",
       "      <td>40</td>\n",
       "      <td>201902</td>\n",
       "      <td>1434.399269</td>\n",
       "      <td>88</td>\n",
       "      <td>1370.2</td>\n",
       "      <td>-0.045781</td>\n",
       "      <td>trial</td>\n",
       "    </tr>\n",
       "    <tr>\n",
       "      <th>32</th>\n",
       "      <td>40</td>\n",
       "      <td>201903</td>\n",
       "      <td>1352.064709</td>\n",
       "      <td>88</td>\n",
       "      <td>1477.2</td>\n",
       "      <td>0.088458</td>\n",
       "      <td>trial</td>\n",
       "    </tr>\n",
       "    <tr>\n",
       "      <th>33</th>\n",
       "      <td>40</td>\n",
       "      <td>201904</td>\n",
       "      <td>1321.797762</td>\n",
       "      <td>88</td>\n",
       "      <td>1439.4</td>\n",
       "      <td>0.085182</td>\n",
       "      <td>trial</td>\n",
       "    </tr>\n",
       "  </tbody>\n",
       "</table>\n",
       "</div>"
      ],
      "text/plain": [
       "    Control Store Id  Year Month  Control Scaled Sales  Trial Store Id  \\\n",
       "7                233      201902            249.762622              77   \n",
       "8                233      201903            203.802205              77   \n",
       "9                233      201904            162.345704              77   \n",
       "19               155      201902            864.522060              86   \n",
       "20               155      201903            780.320405              86   \n",
       "21               155      201904            819.317024              86   \n",
       "31                40      201902           1434.399269              88   \n",
       "32                40      201903           1352.064709              88   \n",
       "33                40      201904           1321.797762              88   \n",
       "\n",
       "    Trial Sales  Sales Percentage Diff Trial Period  \n",
       "7         235.0              -0.060907        trial  \n",
       "8         278.5               0.309755        trial  \n",
       "9         263.5               0.475075        trial  \n",
       "19        913.2               0.054764        trial  \n",
       "20       1026.8               0.272787        trial  \n",
       "21        848.2               0.034642        trial  \n",
       "31       1370.2              -0.045781        trial  \n",
       "32       1477.2               0.088458        trial  \n",
       "33       1439.4               0.085182        trial  "
      ]
     },
     "execution_count": 25,
     "metadata": {},
     "output_type": "execute_result"
    }
   ],
   "source": [
    "temp1 = scaled_sales_control_stores.sort_values(by = [\"Store Id\", \"Year Month\"], ascending = [False, True]).reset_index().drop([\"Sales\", \"index\"], axis = 1)\n",
    "temp2 = observation[observation[\"Store Id\"].isin([77, 86, 88])][[\"Store Id\", \"Year Month\", \"Sales\"]].reset_index().drop([\"index\", \"Year Month\"], axis = 1)\n",
    "scaledsales_vs_trial = pd.concat([temp1, temp2], axis = 1)\n",
    "scaledsales_vs_trial.columns = [\"Control Store Id\", \"Year Month\", \"Control Scaled Sales\", \"Trial Store Id\", \"Trial Sales\"]\n",
    "scaledsales_vs_trial[\"Sales Percentage Diff\"] = (scaledsales_vs_trial[\"Trial Sales\"] - scaledsales_vs_trial[\"Control Scaled Sales\"]) / (((scaledsales_vs_trial[\"Trial Sales\"] + scaledsales_vs_trial[\"Control Scaled Sales\"])/2))\n",
    "def label_period(cell):\n",
    "    if cell < 201902:\n",
    "        return \"pre\"\n",
    "    elif cell > 201904:\n",
    "        return \"post\"\n",
    "    else:\n",
    "        return \"trial\"\n",
    "\n",
    "scaledsales_vs_trial[\"Trial Period\"] = scaledsales_vs_trial[\"Year Month\"].apply(lambda cell: label_period(cell))\n",
    "scaledsales_vs_trial[scaledsales_vs_trial[\"Trial Period\"] == \"trial\"]"
   ]
  },
  {
   "cell_type": "markdown",
   "metadata": {},
   "source": [
    "\n",
    "Check significance of Trial minus Control stores TOT_SALES Percentage Difference Pre-Trial vs Trial.\n",
    "\n",
    "- Step 1: Check null hypothesis of 0 difference between control store's Pre-Trial and Trial period performance.\n",
    "\n",
    "- Step 2: Proof control and trial stores are similar statistically\n",
    "\n",
    "    - Check p-value of control store's Pre-Trial vs Trial store's Pre-Trial.\n",
    "    - If <5%, it is significantly different. If >5%, it is not significantly different (similar).\n",
    "\n",
    "- Step 3: After checking Null Hypothesis of first 2 step to be true, we can check Null Hypothesis of Percentage\n",
    "    Difference between Trial and Control stores during pre-trial is the same as during trial.\n",
    "\n",
    "    - Check T-Value of Percentage Difference of each Trial month (Feb, March, April 2019).\n",
    "    - Mean is mean of Percentage Difference during pre-trial.\n",
    "    - Standard deviation is stdev of Percentage Difference during pre-trial.\n",
    "    - Formula is Trial month's Percentage Difference minus Mean, divided by Standard deviation.\n",
    "    - Compare each T-Value with 95% percentage significance critical t-value of 6 degrees of freedom (7 months of sample - 1)"
   ]
  },
  {
   "cell_type": "code",
   "execution_count": 26,
   "metadata": {},
   "outputs": [
    {
     "name": "stdout",
     "output_type": "stream",
     "text": [
      "Store 40\n",
      "Ttest_indResult(statistic=-0.5958372343168585, pvalue=0.5722861621434009) \n",
      "\n",
      "Store 155\n",
      "Ttest_indResult(statistic=1.429195687929098, pvalue=0.19727058651603258) \n",
      "\n",
      "Store 233\n",
      "Ttest_indResult(statistic=1.1911026010974504, pvalue=0.29445006064862156) \n",
      "\n",
      "Critical t-value for 95% confidence interval:\n",
      "[-4.30265273  4.30265273]\n"
     ]
    }
   ],
   "source": [
    "from scipy.stats import ttest_ind, t\n",
    "# Step 1\n",
    "for num in [40, 155, 233]:\n",
    "    print(\"Store\", num)\n",
    "    print(ttest_ind(pre_trial_scaled_sales_control_stores[pre_trial_scaled_sales_control_stores[\"Store Id\"] == num][\"Scaled Sales\"], trial_scaled_sales_control_stores[trial_scaled_sales_control_stores[\"Store Id\"] == num][\"Scaled Sales\"], equal_var = False), \"\\n\")\n",
    "    \n",
    "alpha = 0.05\n",
    "print(\"Critical t-value for 95% confidence interval:\")\n",
    "print(t.ppf((alpha/2, 1-alpha/2), df=min([len(pre_trial_scaled_sales_control_stores[pre_trial_scaled_sales_control_stores[\"Store Id\"] == num]),\n",
    "                       len(trial_scaled_sales_control_stores[trial_scaled_sales_control_stores[\"Store Id\"] == num])])-1))"
   ]
  },
  {
   "cell_type": "code",
   "execution_count": 27,
   "metadata": {},
   "outputs": [],
   "source": [
    "a = pre_trial_scaled_sales_control_stores[pre_trial_scaled_sales_control_stores[\"Store Id\"] == 40][\"Scaled Sales\"]\n",
    "b = trial_scaled_sales_control_stores[trial_scaled_sales_control_stores[\"Store Id\"] == 40][\"Scaled Sales\"]"
   ]
  },
  {
   "cell_type": "markdown",
   "metadata": {},
   "source": [
    "**Null hypothesis is true. There isn't any statistically significant difference between control store's scaled Pre-Trial and Trial period sales.**"
   ]
  },
  {
   "cell_type": "code",
   "execution_count": 28,
   "metadata": {},
   "outputs": [
    {
     "name": "stdout",
     "output_type": "stream",
     "text": [
      "Trial store: 77 , Control store: 233\n",
      "Ttest_indResult(statistic=-1.2533353315065926e-15, pvalue=0.999999999999999) \n",
      "\n",
      "Trial store: 86 , Control store: 155\n",
      "Ttest_indResult(statistic=0.0, pvalue=1.0) \n",
      "\n",
      "Trial store: 88 , Control store: 40\n",
      "Ttest_indResult(statistic=0.0, pvalue=1.0) \n",
      "\n",
      "Critical t-value for 95% confidence interval:\n",
      "[-2.44691185  2.44691185]\n"
     ]
    }
   ],
   "source": [
    "# Step 2\n",
    "for trial, cont in trial_control.items():\n",
    "    print(\"Trial store:\", trial, \", Control store:\", cont)\n",
    "    print(ttest_ind(pre_trial_observation[pre_trial_observation[\"Store Id\"] == trial][\"Sales\"],\n",
    "                   pre_trial_scaled_sales_control_stores[pre_trial_scaled_sales_control_stores[\"Store Id\"] == cont][\"Scaled Sales\"],\n",
    "                   equal_var=True), '\\n')\n",
    "    #print(len(pretrial_full_observ[pretrial_full_observ[\"STORE_NBR\"] == trial][\"TOT_SALES\"]),len(pretrial_scaled_sales_control_stores[pretrial_scaled_sales_control_stores[\"STORE_NBR\"] == cont][\"ScaledSales\"]))\n",
    "\n",
    "alpha = 0.05\n",
    "print(\"Critical t-value for 95% confidence interval:\")\n",
    "print(t.ppf((alpha/2, 1-alpha/2), df=len(pre_trial_observation[pre_trial_observation[\"Store Id\"] == trial])-1))"
   ]
  },
  {
   "cell_type": "markdown",
   "metadata": {},
   "source": [
    "**Null hypothesis is true. There isn't any statistically significant difference between Trial store's sales and Control store's scaled-sales performance during pre-trial.**"
   ]
  },
  {
   "cell_type": "code",
   "execution_count": 29,
   "metadata": {},
   "outputs": [
    {
     "name": "stdout",
     "output_type": "stream",
     "text": [
      "Trial store: 77 , Control store: 233\n",
      "201902 : -0.7171038288055888\n",
      "201903 : 3.035317928855662\n",
      "201904 : 4.708944418758203\n",
      "\n",
      "\n",
      "Trial store: 86 , Control store: 155\n",
      "201902 : 1.4133618775921797\n",
      "201903 : 7.123063846042149\n",
      "201904 : 0.8863824572944162\n",
      "\n",
      "\n",
      "Trial store: 88 , Control store: 40\n",
      "201902 : -0.5481633746817604\n",
      "201903 : 1.0089992743637755\n",
      "201904 : 0.9710006270463645\n",
      "\n",
      "\n",
      "Critical t-value for 95% confidence interval:\n",
      "1.9431802803927816\n"
     ]
    }
   ],
   "source": [
    "# Step 3\n",
    "for trial, cont in trial_control.items():\n",
    "    print(\"Trial store:\", trial, \", Control store:\", cont)\n",
    "    temp_pre = scaledsales_vs_trial[(scaledsales_vs_trial[\"Control Store Id\"] == cont) & (scaledsales_vs_trial[\"Trial Period\"]==\"pre\")]\n",
    "    std = temp_pre[\"Sales Percentage Diff\"].std()\n",
    "    mean = temp_pre[\"Sales Percentage Diff\"].mean()\n",
    "    #print(std, mean)\n",
    "    \n",
    "    for t_month in scaledsales_vs_trial[scaledsales_vs_trial[\"Trial Period\"] == \"trial\"][\"Year Month\"].unique():\n",
    "        pdif = scaledsales_vs_trial[(scaledsales_vs_trial[\"Year Month\"] == t_month) & (scaledsales_vs_trial[\"Trial Store Id\"] == trial)][\"Sales Percentage Diff\"]\n",
    "        print(t_month,\":\",(float(pdif)-mean)/std)\n",
    "    print('\\n')\n",
    "    \n",
    "print(\"Critical t-value for 95% confidence interval:\")\n",
    "conf_intv_95 = t.ppf(0.95, df=len(temp_pre)-1)\n",
    "print(conf_intv_95)"
   ]
  },
  {
   "cell_type": "markdown",
   "metadata": {},
   "source": [
    "\n",
    "**There are 3 months' increase in performance that are statistically significant (Above the 95% confidence interval t-score):**\n",
    "\n",
    "- March and April trial months for trial store 77\n",
    "- March trial months for trial store 86\n"
   ]
  },
  {
   "cell_type": "code",
   "execution_count": 30,
   "metadata": {},
   "outputs": [
    {
     "data": {
      "image/png": "[encoded data removed]",
      "text/plain": [
       "<Figure size 432x288 with 1 Axes>"
      ]
     },
     "metadata": {
      "needs_background": "light"
     },
     "output_type": "display_data"
    },
    {
     "data": {
      "image/png": "[encoded data removed]",
      "text/plain": [
       "<Figure size 432x288 with 1 Axes>"
      ]
     },
     "metadata": {
      "needs_background": "light"
     },
     "output_type": "display_data"
    },
    {
     "data": {
      "image/png": "[encoded data removed]",
      "text/plain": [
       "<Figure size 432x288 with 1 Axes>"
      ]
     },
     "metadata": {
      "needs_background": "light"
     },
     "output_type": "display_data"
    }
   ],
   "source": [
    "for trial, control in trial_control.items():\n",
    "    a = trial_scaled_sales_control_stores[trial_scaled_sales_control_stores[\"Store Id\"] == control].rename(columns={\"Sales\": \"Control Total Sales\"})\n",
    "    b = trial_observation[trial_observation[\"Store Id\"] == trial][[\"Store Id\", \"Year Month\", \"Sales\"]].rename(columns={\"Sales\": \"Trial Sales\"})\n",
    "    comb = b[[\"Year Month\", \"Trial Sales\"]].merge(a[[\"Year Month\", \"Control Total Sales\"]],on=\"Year Month\").set_index(\"Year Month\")\n",
    "    comb.plot.bar()\n",
    "    cont_sc_sales = trial_scaled_sales_control_stores[trial_scaled_sales_control_stores[\"Store Id\"] == control][\"Sales\"]\n",
    "    std = scaledsales_vs_trial[(scaledsales_vs_trial[\"Control Store Id\"] == control) & (scaledsales_vs_trial[\"Trial Period\"]==\"pre\")][\"Sales Percentage Diff\"].std()\n",
    "    thresh95 = cont_sc_sales.mean() + (cont_sc_sales.mean() * std * 2)\n",
    "    thresh5 = cont_sc_sales.mean() - (cont_sc_sales.mean() * std * 2)\n",
    "    plt.axhline(y=thresh95,linewidth=1, color='b', label=\"95% threshold\")\n",
    "    plt.axhline(y=thresh5,linewidth=1, color='r', label=\"5% threshold\")\n",
    "    plt.legend(loc='center left', bbox_to_anchor=(1.0, 0.5))\n",
    "    plt.title(\"Trial Store \"+str(trial)+\" and Control Store \"+str(control)+\" - Total Sales\")\n",
    "    plt.savefig(\"TS {} and CS {} - TOT_SALES.png\".format(trial,control), bbox_inches=\"tight\")"
   ]
  },
  {
   "cell_type": "markdown",
   "metadata": {},
   "source": [
    "**We can see that Trial store 77 sales for March and April exceeds 95% threshold of control store. Same goes to store 86 sales for March.**"
   ]
  },
  {
   "cell_type": "code",
   "execution_count": 31,
   "metadata": {},
   "outputs": [],
   "source": [
    "#Ratio of Store 77 and its Control store.\n",
    "ncust_ratio_77 = pre_trial_observation[pre_trial_observation[\"Store Id\"] == 77][\"Customers\"].sum() / pre_trial_observation[pre_trial_observation[\"Store Id\"] == 233][\"Customers\"].sum()\n",
    "\n",
    "#Ratio of Store 86 and its Control store.\n",
    "ncust_ratio_86 = pre_trial_observation[pre_trial_observation[\"Store Id\"] == 86][\"Customers\"].sum() / pre_trial_observation[pre_trial_observation[\"Store Id\"] == 155][\"Customers\"].sum()\n",
    "\n",
    "#Ratio of Store 88 and its Control store.\n",
    "ncust_ratio_88 = pre_trial_observation[pre_trial_observation[\"Store Id\"] == 88][\"Customers\"].sum() / pre_trial_observation[pre_trial_observation[\"Store Id\"] == 40][\"Customers\"].sum()"
   ]
  },
  {
   "cell_type": "code",
   "execution_count": 32,
   "metadata": {},
   "outputs": [],
   "source": [
    "scaled_ncust_control_stores = observation[observation[\"Store Id\"].isin([233, 155, 40])][[\"Store Id\", \"Year Month\", \"Customers\"]]\n",
    "\n",
    "def scaler_c(row):\n",
    "    if row[\"Store Id\"] == 233:\n",
    "        return row[\"Customers\"] * ncust_ratio_77\n",
    "    elif row[\"Store Id\"] == 155:\n",
    "        return row[\"Customers\"] * ncust_ratio_86\n",
    "    elif row[\"Store Id\"] == 40:\n",
    "        return row[\"Customers\"] * ncust_ratio_88\n",
    "\n",
    "scaled_ncust_control_stores[\"ScaledNcust\"] = scaled_ncust_control_stores.apply(lambda row: scaler_c(row), axis=1)\n",
    "trial_scaled_ncust_control_stores = scaled_ncust_control_stores[(scaled_ncust_control_stores[\"Year Month\"] >= 201902) & (scaled_ncust_control_stores[\"Year Month\"] <= 201904)]\n",
    "pretrial_scaled_ncust_control_stores = scaled_ncust_control_stores[scaled_ncust_control_stores[\"Year Month\"] < 201902]"
   ]
  },
  {
   "cell_type": "code",
   "execution_count": 33,
   "metadata": {},
   "outputs": [
    {
     "data": {
      "image/png": "[encoded data removed]",
      "text/plain": [
       "<Figure size 432x288 with 1 Axes>"
      ]
     },
     "metadata": {
      "needs_background": "light"
     },
     "output_type": "display_data"
    },
    {
     "data": {
      "image/png": "[encoded data removed]",
      "text/plain": [
       "<Figure size 432x288 with 1 Axes>"
      ]
     },
     "metadata": {
      "needs_background": "light"
     },
     "output_type": "display_data"
    },
    {
     "data": {
      "image/png": "[encoded data removed]",
      "text/plain": [
       "<Figure size 432x288 with 1 Axes>"
      ]
     },
     "metadata": {
      "needs_background": "light"
     },
     "output_type": "display_data"
    }
   ],
   "source": [
    "ncust_percentage_diff = {}\n",
    "for trial, control in trial_control.items():\n",
    "    a = trial_scaled_ncust_control_stores[trial_scaled_ncust_control_stores[\"Store Id\"] == control]\n",
    "    b = trial_observation[trial_observation[\"Store Id\"] == trial][[\"Store Id\", \"Year Month\", \"Customers\"]]\n",
    "    ncust_percentage_diff[trial] = b[\"Customers\"].sum() / a[\"ScaledNcust\"].sum()\n",
    "    b[[\"Year Month\", \"Customers\"]].merge(a[[\"Year Month\", \"ScaledNcust\"]],on=\"Year Month\").set_index(\"Year Month\").rename(columns={\"Scaled Sales\":\"Scaled Control Customers\", \"Sales\":\"Trial Customers\"}).plot.bar()\n",
    "    plt.legend(loc='center left', bbox_to_anchor=(1.0, 0.5))\n",
    "    plt.title(\"Trial Store \"+str(trial)+\" and Control Store \"+str(control))"
   ]
  },
  {
   "cell_type": "code",
   "execution_count": 34,
   "metadata": {},
   "outputs": [
    {
     "data": {
      "text/html": [
       "<div>\n",
       "<style scoped>\n",
       "    .dataframe tbody tr th:only-of-type {\n",
       "        vertical-align: middle;\n",
       "    }\n",
       "\n",
       "    .dataframe tbody tr th {\n",
       "        vertical-align: top;\n",
       "    }\n",
       "\n",
       "    .dataframe thead th {\n",
       "        text-align: right;\n",
       "    }\n",
       "</style>\n",
       "<table border=\"1\" class=\"dataframe\">\n",
       "  <thead>\n",
       "    <tr style=\"text-align: right;\">\n",
       "      <th></th>\n",
       "      <th>Control Store Id</th>\n",
       "      <th>Year Month</th>\n",
       "      <th>Control Scaled Customers</th>\n",
       "      <th>Trial Store Id</th>\n",
       "      <th>Trial Customers</th>\n",
       "      <th>Customers Percentage Diff</th>\n",
       "      <th>Trial Period</th>\n",
       "    </tr>\n",
       "  </thead>\n",
       "  <tbody>\n",
       "    <tr>\n",
       "      <th>7</th>\n",
       "      <td>233</td>\n",
       "      <td>201902</td>\n",
       "      <td>45.151007</td>\n",
       "      <td>77</td>\n",
       "      <td>45</td>\n",
       "      <td>-0.003350</td>\n",
       "      <td>trial</td>\n",
       "    </tr>\n",
       "    <tr>\n",
       "      <th>8</th>\n",
       "      <td>233</td>\n",
       "      <td>201903</td>\n",
       "      <td>40.134228</td>\n",
       "      <td>77</td>\n",
       "      <td>50</td>\n",
       "      <td>0.218913</td>\n",
       "      <td>trial</td>\n",
       "    </tr>\n",
       "    <tr>\n",
       "      <th>9</th>\n",
       "      <td>233</td>\n",
       "      <td>201904</td>\n",
       "      <td>30.100671</td>\n",
       "      <td>77</td>\n",
       "      <td>47</td>\n",
       "      <td>0.438370</td>\n",
       "      <td>trial</td>\n",
       "    </tr>\n",
       "    <tr>\n",
       "      <th>19</th>\n",
       "      <td>155</td>\n",
       "      <td>201902</td>\n",
       "      <td>95.000000</td>\n",
       "      <td>86</td>\n",
       "      <td>107</td>\n",
       "      <td>0.118812</td>\n",
       "      <td>trial</td>\n",
       "    </tr>\n",
       "    <tr>\n",
       "      <th>20</th>\n",
       "      <td>155</td>\n",
       "      <td>201903</td>\n",
       "      <td>94.000000</td>\n",
       "      <td>86</td>\n",
       "      <td>115</td>\n",
       "      <td>0.200957</td>\n",
       "      <td>trial</td>\n",
       "    </tr>\n",
       "    <tr>\n",
       "      <th>21</th>\n",
       "      <td>155</td>\n",
       "      <td>201904</td>\n",
       "      <td>99.000000</td>\n",
       "      <td>86</td>\n",
       "      <td>105</td>\n",
       "      <td>0.058824</td>\n",
       "      <td>trial</td>\n",
       "    </tr>\n",
       "    <tr>\n",
       "      <th>31</th>\n",
       "      <td>40</td>\n",
       "      <td>201902</td>\n",
       "      <td>127.610209</td>\n",
       "      <td>88</td>\n",
       "      <td>124</td>\n",
       "      <td>-0.028697</td>\n",
       "      <td>trial</td>\n",
       "    </tr>\n",
       "    <tr>\n",
       "      <th>32</th>\n",
       "      <td>40</td>\n",
       "      <td>201903</td>\n",
       "      <td>120.464037</td>\n",
       "      <td>88</td>\n",
       "      <td>134</td>\n",
       "      <td>0.106388</td>\n",
       "      <td>trial</td>\n",
       "    </tr>\n",
       "    <tr>\n",
       "      <th>33</th>\n",
       "      <td>40</td>\n",
       "      <td>201904</td>\n",
       "      <td>121.484919</td>\n",
       "      <td>88</td>\n",
       "      <td>128</td>\n",
       "      <td>0.052228</td>\n",
       "      <td>trial</td>\n",
       "    </tr>\n",
       "  </tbody>\n",
       "</table>\n",
       "</div>"
      ],
      "text/plain": [
       "    Control Store Id  Year Month  Control Scaled Customers  Trial Store Id  \\\n",
       "7                233      201902                 45.151007              77   \n",
       "8                233      201903                 40.134228              77   \n",
       "9                233      201904                 30.100671              77   \n",
       "19               155      201902                 95.000000              86   \n",
       "20               155      201903                 94.000000              86   \n",
       "21               155      201904                 99.000000              86   \n",
       "31                40      201902                127.610209              88   \n",
       "32                40      201903                120.464037              88   \n",
       "33                40      201904                121.484919              88   \n",
       "\n",
       "    Trial Customers  Customers Percentage Diff Trial Period  \n",
       "7                45                  -0.003350        trial  \n",
       "8                50                   0.218913        trial  \n",
       "9                47                   0.438370        trial  \n",
       "19              107                   0.118812        trial  \n",
       "20              115                   0.200957        trial  \n",
       "21              105                   0.058824        trial  \n",
       "31              124                  -0.028697        trial  \n",
       "32              134                   0.106388        trial  \n",
       "33              128                   0.052228        trial  "
      ]
     },
     "execution_count": 34,
     "metadata": {},
     "output_type": "execute_result"
    }
   ],
   "source": [
    "#Creating a compiled Xustomers Percentage Difference Table\n",
    "temp1 = scaled_ncust_control_stores.sort_values(by=[\"Store Id\", \"Year Month\"], ascending=[False, True]).reset_index().drop([\"Customers\", \"index\"], axis=1)\n",
    "temp2 = observation[observation[\"Store Id\"].isin([77,86,88])][[\"Store Id\", \"Year Month\", \"Customers\"]].reset_index().drop([\"index\", \"Year Month\"], axis=1)\n",
    "scaledncust_vs_trial = pd.concat([temp1, temp2], axis=1)\n",
    "scaledncust_vs_trial.columns = [\"Control Store Id\", \"Year Month\", \"Control Scaled Customers\", \"Trial Store Id\", \"Trial Customers\"]\n",
    "scaledncust_vs_trial[\"Customers Percentage Diff\"] = (scaledncust_vs_trial[\"Trial Customers\"] - scaledncust_vs_trial[\"Control Scaled Customers\"]) / (((scaledncust_vs_trial[\"Trial Customers\"] + scaledncust_vs_trial[\"Control Scaled Customers\"])/2))\n",
    "scaledncust_vs_trial[\"Trial Period\"] = scaledncust_vs_trial[\"Year Month\"].apply(lambda cell: label_period(cell))\n",
    "scaledncust_vs_trial[scaledncust_vs_trial[\"Trial Period\"] == \"trial\"]"
   ]
  },
  {
   "cell_type": "markdown",
   "metadata": {},
   "source": [
    "**Check significance of Trial minus Control stores nCustomers Percentage Difference Pre-Trial vs Trial.**\n",
    "\n",
    "- Step 1: Check null hypothesis of 0 difference between control store's Pre-Trial and Trial period performance.\n",
    "- Step 2: Proof control and trial stores are similar statistically\n",
    "- Step 3: After checking Null Hypothesis of first 2 step to be true, we can check Null Hypothesis of Percentage Difference between Trial and Control stores during pre-trial is the same as during trial."
   ]
  },
  {
   "cell_type": "code",
   "execution_count": 35,
   "metadata": {},
   "outputs": [
    {
     "name": "stdout",
     "output_type": "stream",
     "text": [
      "Store 40\n",
      "Ttest_indResult(statistic=0.644732693420032, pvalue=0.5376573016017127) \n",
      "\n",
      "Store 155\n",
      "Ttest_indResult(statistic=1.3888888888888882, pvalue=0.204345986327886) \n",
      "\n",
      "Store 233\n",
      "Ttest_indResult(statistic=0.8442563765225701, pvalue=0.4559280037660254) \n",
      "\n",
      "Critical t-value for 95% confidence interval:\n",
      "[-4.30265273  4.30265273]\n"
     ]
    }
   ],
   "source": [
    "# Step 1\n",
    "for num in [40, 155, 233]:\n",
    "    print(\"Store\", num)\n",
    "    print(ttest_ind(pretrial_scaled_ncust_control_stores[pretrial_scaled_ncust_control_stores[\"Store Id\"] == num][\"ScaledNcust\"],\n",
    "                   trial_scaled_ncust_control_stores[trial_scaled_ncust_control_stores[\"Store Id\"] == num][\"ScaledNcust\"],\n",
    "                   equal_var=False), '\\n')\n",
    "    \n",
    "alpha = 0.05\n",
    "print(\"Critical t-value for 95% confidence interval:\")\n",
    "print(t.ppf((alpha/2, 1-alpha/2), df=min([len(pretrial_scaled_ncust_control_stores[pretrial_scaled_ncust_control_stores[\"Store Id\"] == num]),\n",
    "                       len(trial_scaled_ncust_control_stores[trial_scaled_ncust_control_stores[\"Store Id\"] == num])])-1))"
   ]
  },
  {
   "cell_type": "code",
   "execution_count": 36,
   "metadata": {},
   "outputs": [
    {
     "name": "stdout",
     "output_type": "stream",
     "text": [
      "Trial store: 77 , Control store: 233\n",
      "Ttest_indResult(statistic=0.0, pvalue=1.0) \n",
      "\n",
      "Trial store: 86 , Control store: 155\n",
      "Ttest_indResult(statistic=0.0, pvalue=1.0) \n",
      "\n",
      "Trial store: 88 , Control store: 40\n",
      "Ttest_indResult(statistic=-7.648483953264653e-15, pvalue=0.999999999999994) \n",
      "\n",
      "Critical t-value for 95% confidence interval:\n",
      "[-2.44691185  2.44691185]\n"
     ]
    }
   ],
   "source": [
    "# Step 2\n",
    "for trial, cont in trial_control.items():\n",
    "    print(\"Trial store:\", trial, \", Control store:\", cont)\n",
    "    print(ttest_ind(pre_trial_observation[pre_trial_observation[\"Store Id\"] == trial][\"Customers\"],\n",
    "                   pretrial_scaled_ncust_control_stores[pretrial_scaled_ncust_control_stores[\"Store Id\"] == cont][\"ScaledNcust\"],\n",
    "                   equal_var=True), '\\n')\n",
    "\n",
    "\n",
    "alpha = 0.05\n",
    "print(\"Critical t-value for 95% confidence interval:\")\n",
    "print(t.ppf((alpha/2, 1-alpha/2), df=len(pre_trial_observation[pre_trial_observation[\"Store Id\"] == trial])-1))"
   ]
  },
  {
   "cell_type": "code",
   "execution_count": 37,
   "metadata": {},
   "outputs": [
    {
     "name": "stdout",
     "output_type": "stream",
     "text": [
      "Trial store: 77 , Control store: 233\n",
      "201902 : -0.19886295797440687\n",
      "201903 : 8.009609025380932\n",
      "201904 : 16.114474772873923\n",
      "\n",
      "\n",
      "Trial store: 86 , Control store: 155\n",
      "201902 : 6.220524882227514\n",
      "201903 : 10.52599074274189\n",
      "201904 : 3.0763575852842706\n",
      "\n",
      "\n",
      "Trial store: 88 , Control store: 40\n",
      "201902 : -0.3592881735131531\n",
      "201903 : 1.2575196020616801\n",
      "201904 : 0.6092905590514273\n",
      "\n",
      "\n",
      "Critical t-value for 95% confidence interval:\n",
      "1.9431802803927816\n"
     ]
    }
   ],
   "source": [
    "# Step 3\n",
    "for trial, cont in trial_control.items():\n",
    "    print(\"Trial store:\", trial, \", Control store:\", cont)\n",
    "    temp_pre = scaledncust_vs_trial[(scaledncust_vs_trial[\"Control Store Id\"] == cont) & (scaledncust_vs_trial[\"Trial Period\"]==\"pre\")]\n",
    "    std = temp_pre[\"Customers Percentage Diff\"].std()\n",
    "    mean = temp_pre[\"Customers Percentage Diff\"].mean()\n",
    "    #print(std, mean)\n",
    "    for t_month in scaledncust_vs_trial[scaledncust_vs_trial[\"Trial Period\"] == \"trial\"][\"Year Month\"].unique():\n",
    "        pdif = scaledncust_vs_trial[(scaledncust_vs_trial[\"Year Month\"] == t_month) & (scaledncust_vs_trial[\"Trial Store Id\"] == trial)][\"Customers Percentage Diff\"]\n",
    "        print(t_month,\":\",(float(pdif)-mean)/std)\n",
    "    print('\\n')\n",
    "    \n",
    "print(\"Critical t-value for 95% confidence interval:\")\n",
    "conf_intv_95 = t.ppf(0.95, df=len(temp_pre)-1)\n",
    "print(conf_intv_95)"
   ]
  },
  {
   "cell_type": "markdown",
   "metadata": {},
   "source": [
    "**There are 5 months' increase in performance that are statistically significant (Above the 95% confidence interval t-score):**\n",
    "\n",
    "- March and April trial months for trial store 77\n",
    "- Feb, March and April trial months for trial store 86"
   ]
  },
  {
   "cell_type": "code",
   "execution_count": 38,
   "metadata": {},
   "outputs": [
    {
     "data": {
      "image/png": "[encoded data removed]",
      "text/plain": [
       "<Figure size 432x288 with 1 Axes>"
      ]
     },
     "metadata": {
      "needs_background": "light"
     },
     "output_type": "display_data"
    },
    {
     "data": {
      "image/png": "[encoded data removed]",
      "text/plain": [
       "<Figure size 432x288 with 1 Axes>"
      ]
     },
     "metadata": {
      "needs_background": "light"
     },
     "output_type": "display_data"
    },
    {
     "data": {
      "image/png": "[encoded data removed]",
      "text/plain": [
       "<Figure size 432x288 with 1 Axes>"
      ]
     },
     "metadata": {
      "needs_background": "light"
     },
     "output_type": "display_data"
    }
   ],
   "source": [
    "for trial, control in trial_control.items():\n",
    "    a = trial_scaled_ncust_control_stores[trial_scaled_ncust_control_stores[\"Store Id\"] == control].rename(columns={\"Customers\": \"Control Customers\"})\n",
    "    b = trial_observation[trial_observation[\"Store Id\"] == trial][[\"Store Id\", \"Year Month\", \"Customers\"]].rename(columns={\"Customers\": \"Trial Customers\"})\n",
    "    comb = b[[\"Year Month\", \"Trial Customers\"]].merge(a[[\"Year Month\", \"Control Customers\"]],on=\"Year Month\").set_index(\"Year Month\")\n",
    "    comb.plot.bar()\n",
    "    cont_sc_ncust = trial_scaled_ncust_control_stores[trial_scaled_ncust_control_stores[\"Store Id\"] == control][\"Customers\"]\n",
    "    std = scaledncust_vs_trial[(scaledncust_vs_trial[\"Control Store Id\"] == control) & (scaledncust_vs_trial[\"Trial Period\"]==\"pre\")][\"Customers Percentage Diff\"].std()\n",
    "    thresh95 = cont_sc_ncust.mean() + (cont_sc_ncust.mean() * std * 2)\n",
    "    thresh5 = cont_sc_ncust.mean() - (cont_sc_ncust.mean() * std * 2)\n",
    "    plt.axhline(y=thresh95,linewidth=1, color='b', label=\"95% threshold\")\n",
    "    plt.axhline(y=thresh5,linewidth=1, color='r', label=\"5% threshold\")\n",
    "    plt.legend(loc='center left', bbox_to_anchor=(1.0, 0.5))\n",
    "    plt.title(\"Trial Store \"+str(trial)+\" and Control Store \"+str(control)+\" - Number of Customers\")\n",
    "    plt.savefig(\"TS {} and CS {} - nCustomers.png\".format(trial,control), bbox_inches=\"tight\")"
   ]
  },
  {
   "cell_type": "markdown",
   "metadata": {},
   "source": [
    "**We can see that Trial store 77 sales for Feb, March, and April exceeds 95% threshold of control store. Same goes to store 86 sales for all 3 trial months.**\n",
    "\n",
    "- Trial store 77: Control store 233\n",
    "- Trial store 86: Control store 155\n",
    "- Trial store 88: Control store 40\n",
    "- Both trial store 77 and 86 showed significant increase in Total Sales and Number of Customers during trial period. But not for trial store 88. Perhaps the client knows if there's anything about trial 88 that differs it from the other two trial.\n",
    "- Overall the trial showed positive significant result.**"
   ]
  },
  {
   "cell_type": "code",
   "execution_count": null,
   "metadata": {},
   "outputs": [],
   "source": []
  }
 ],
 "metadata": {
  "kernelspec": {
   "display_name": "Python 3",
   "language": "python",
   "name": "python3"
  },
  "language_info": {
   "codemirror_mode": {
    "name": "ipython",
    "version": 3
   },
   "file_extension": ".py",
   "mimetype": "text/x-python",
   "name": "python",
   "nbconvert_exporter": "python",
   "pygments_lexer": "ipython3",
   "version": "3.8.3"
  }
 },
 "nbformat": 4,
 "nbformat_minor": 4
}
